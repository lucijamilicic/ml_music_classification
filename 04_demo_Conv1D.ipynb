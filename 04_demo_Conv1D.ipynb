{
  "nbformat": 4,
  "nbformat_minor": 0,
  "metadata": {
    "colab": {
      "provenance": []
    },
    "kernelspec": {
      "name": "python3",
      "display_name": "Python 3"
    },
    "language_info": {
      "name": "python"
    }
  },
  "cells": [
    {
      "cell_type": "code",
      "execution_count": 2,
      "metadata": {
        "id": "qbJfRJdXPtfD"
      },
      "outputs": [],
      "source": [
        "# !pip install gradio"
      ]
    },
    {
      "cell_type": "code",
      "source": [
        "import gradio as gr\n",
        "from keras.models import load_model\n",
        "import numpy as np\n",
        "import wave\n"
      ],
      "metadata": {
        "id": "pe_oU4DsP8fP"
      },
      "execution_count": 13,
      "outputs": []
    },
    {
      "cell_type": "code",
      "source": [
        "model_1d_conv = load_model('./model-0.0001rate.h5')\n",
        "input_shape = (1, 135161, 1)\n",
        "class_names = ['blues',\n",
        " 'classical',\n",
        " 'country',\n",
        " 'disco',\n",
        " 'hiphop',\n",
        " 'jazz',\n",
        " 'metal',\n",
        " 'pop',\n",
        " 'reggae',\n",
        " 'rock']"
      ],
      "metadata": {
        "id": "RMYX6aNjQJTJ"
      },
      "execution_count": 78,
      "outputs": []
    },
    {
      "cell_type": "code",
      "source": [
        "def load_audio_arr(filepath):\n",
        "  ifile = wave.open(filepath)\n",
        "  samples = ifile.getnframes()\n",
        "  audio = ifile.readframes(samples)\n",
        "\n",
        "  audio_as_np_int16 = np.frombuffer(audio, dtype=np.int16)\n",
        "  audio_as_np_float32 = audio_as_np_int16.astype(np.float32)\n",
        "\n",
        "  max_int16 = 2**15\n",
        "  audio_normalised = audio_as_np_float32 / max_int16\n",
        "\n",
        "  return audio_normalised"
      ],
      "metadata": {
        "id": "huCd3wThR31u"
      },
      "execution_count": 79,
      "outputs": []
    },
    {
      "cell_type": "code",
      "source": [
        "def classify_audio(filepath):\n",
        "  outputs = dict({})\n",
        "  X = load_audio_arr(filepath)\n",
        "  X = np.reshape(X[:input_shape[1]], input_shape)\n",
        "  y_pred = model_1d_conv.predict(X)\n",
        "  y_pred = np.reshape(y_pred, (10,))\n",
        "  for i in range(len(class_names)):\n",
        "    outputs[class_names[i]] = f'{y_pred[i]:.4f}'\n",
        "\n",
        "  return outputs\n",
        "\n"
      ],
      "metadata": {
        "id": "9G3G2XH0QjxS"
      },
      "execution_count": 80,
      "outputs": []
    },
    {
      "cell_type": "code",
      "source": [
        "demo = gr.Interface(\n",
        "    fn=classify_audio, inputs=gr.Audio(type=\"filepath\"), outputs=gr.outputs.Label()\n",
        ")\n",
        "demo.launch(debug=True)"
      ],
      "metadata": {
        "colab": {
          "base_uri": "https://localhost:8080/",
          "height": 742
        },
        "id": "sRDW3s5pQp40",
        "outputId": "99355f05-69a5-4651-b1b2-66181419dcaf"
      },
      "execution_count": 81,
      "outputs": [
        {
          "output_type": "stream",
          "name": "stderr",
          "text": [
            "<ipython-input-81-db395fa9c440>:2: GradioDeprecationWarning: Usage of gradio.outputs is deprecated, and will not be supported in the future, please import your components from gradio.components\n",
            "  fn=classify_audio, inputs=gr.Audio(type=\"filepath\"), outputs=gr.outputs.Label()\n",
            "<ipython-input-81-db395fa9c440>:2: GradioUnusedKwargWarning: You have unused kwarg parameters in Label, please remove them: {'type': 'auto'}\n",
            "  fn=classify_audio, inputs=gr.Audio(type=\"filepath\"), outputs=gr.outputs.Label()\n"
          ]
        },
        {
          "output_type": "stream",
          "name": "stdout",
          "text": [
            "Colab notebook detected. This cell will run indefinitely so that you can see errors and logs. To turn off, set debug=False in launch().\n",
            "Note: opening Chrome Inspector may crash demo inside Colab notebooks.\n",
            "\n",
            "To create a public link, set `share=True` in `launch()`.\n"
          ]
        },
        {
          "output_type": "display_data",
          "data": {
            "text/plain": [
              "<IPython.core.display.Javascript object>"
            ],
            "application/javascript": [
              "(async (port, path, width, height, cache, element) => {\n",
              "                        if (!google.colab.kernel.accessAllowed && !cache) {\n",
              "                            return;\n",
              "                        }\n",
              "                        element.appendChild(document.createTextNode(''));\n",
              "                        const url = await google.colab.kernel.proxyPort(port, {cache});\n",
              "\n",
              "                        const external_link = document.createElement('div');\n",
              "                        external_link.innerHTML = `\n",
              "                            <div style=\"font-family: monospace; margin-bottom: 0.5rem\">\n",
              "                                Running on <a href=${new URL(path, url).toString()} target=\"_blank\">\n",
              "                                    https://localhost:${port}${path}\n",
              "                                </a>\n",
              "                            </div>\n",
              "                        `;\n",
              "                        element.appendChild(external_link);\n",
              "\n",
              "                        const iframe = document.createElement('iframe');\n",
              "                        iframe.src = new URL(path, url).toString();\n",
              "                        iframe.height = height;\n",
              "                        iframe.allow = \"autoplay; camera; microphone; clipboard-read; clipboard-write;\"\n",
              "                        iframe.width = width;\n",
              "                        iframe.style.border = 0;\n",
              "                        element.appendChild(iframe);\n",
              "                    })(7860, \"/\", \"100%\", 500, false, window.element)"
            ]
          },
          "metadata": {}
        },
        {
          "output_type": "stream",
          "name": "stdout",
          "text": [
            "1/1 [==============================] - 0s 198ms/step\n",
            "Keyboard interruption in main thread... closing server.\n"
          ]
        },
        {
          "output_type": "execute_result",
          "data": {
            "text/plain": []
          },
          "metadata": {},
          "execution_count": 81
        }
      ]
    },
    {
      "cell_type": "code",
      "source": [],
      "metadata": {
        "id": "4PMoiCFfXHAO"
      },
      "execution_count": null,
      "outputs": []
    }
  ]
}