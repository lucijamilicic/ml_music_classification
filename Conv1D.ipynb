{
 "cells": [
  {
   "cell_type": "code",
   "execution_count": 1,
   "id": "2cace57a",
   "metadata": {},
   "outputs": [],
   "source": [
    "import numpy as np\n",
    "import tensorflow as tf\n",
    "from sklearn.model_selection import train_test_split\n",
    "from keras.utils import to_categorical\n",
    "from tensorflow.keras import Sequential\n",
    "from tensorflow.keras.layers import Conv1D, MaxPool1D, Dropout, GlobalMaxPool1D, Embedding, Dense, InputLayer, Flatten\n",
    "from tensorflow.keras.optimizers import Adam\n",
    "from tensorflow.keras.losses import CategoricalCrossentropy\n",
    "from matplotlib import pyplot as plt"
   ]
  },
  {
   "cell_type": "code",
   "execution_count": 2,
   "id": "de16ce4a",
   "metadata": {},
   "outputs": [
    {
     "name": "stdout",
     "output_type": "stream",
     "text": [
      "Found 999 files belonging to 10 classes.\n"
     ]
    }
   ],
   "source": [
    "data = tf.keras.utils.audio_dataset_from_directory('./data', seed=7, batch_size=1000)"
   ]
  },
  {
   "cell_type": "code",
   "execution_count": 3,
   "id": "1dba812f",
   "metadata": {},
   "outputs": [
    {
     "data": {
      "text/plain": [
       "['blues',\n",
       " 'classical',\n",
       " 'country',\n",
       " 'disco',\n",
       " 'hiphop',\n",
       " 'jazz',\n",
       " 'metal',\n",
       " 'pop',\n",
       " 'reggae',\n",
       " 'rock']"
      ]
     },
     "execution_count": 3,
     "metadata": {},
     "output_type": "execute_result"
    }
   ],
   "source": [
    "data.class_names"
   ]
  },
  {
   "cell_type": "code",
   "execution_count": 4,
   "id": "a514ab11",
   "metadata": {},
   "outputs": [],
   "source": [
    "X = []\n",
    "y = []\n",
    "\n",
    "for (x, l) in data.as_numpy_iterator():\n",
    "    X = x\n",
    "    y = l"
   ]
  },
  {
   "cell_type": "code",
   "execution_count": 5,
   "id": "17a68581",
   "metadata": {},
   "outputs": [
    {
     "data": {
      "text/plain": [
       "array([[-0.0005188 ],\n",
       "       [ 0.00067139],\n",
       "       [-0.00146484],\n",
       "       ...,\n",
       "       [ 0.        ],\n",
       "       [ 0.        ],\n",
       "       [ 0.        ]], dtype=float32)"
      ]
     },
     "execution_count": 5,
     "metadata": {},
     "output_type": "execute_result"
    }
   ],
   "source": [
    "X[0]"
   ]
  },
  {
   "cell_type": "code",
   "execution_count": 6,
   "id": "80cc1d96-d6ed-400f-b6e0-ed9061e49423",
   "metadata": {},
   "outputs": [
    {
     "data": {
      "text/plain": [
       "(675808, 1)"
      ]
     },
     "execution_count": 6,
     "metadata": {},
     "output_type": "execute_result"
    }
   ],
   "source": [
    "X[0].shape"
   ]
  },
  {
   "cell_type": "code",
   "execution_count": 7,
   "id": "aaeab86c",
   "metadata": {},
   "outputs": [
    {
     "data": {
      "text/plain": [
       "0"
      ]
     },
     "execution_count": 7,
     "metadata": {},
     "output_type": "execute_result"
    }
   ],
   "source": [
    "y[0]"
   ]
  },
  {
   "cell_type": "code",
   "execution_count": 8,
   "id": "9317d253-3037-46c3-a0b4-0bfd5ea143aa",
   "metadata": {},
   "outputs": [],
   "source": [
    "X_train, X_test, y_train, y_test = train_test_split(X, y, stratify=y, test_size=0.2)"
   ]
  },
  {
   "cell_type": "code",
   "execution_count": 9,
   "id": "134772a8-e903-4801-91ad-c7f4e5d97f25",
   "metadata": {},
   "outputs": [
    {
     "data": {
      "text/plain": [
       "(799, 675808, 1)"
      ]
     },
     "execution_count": 9,
     "metadata": {},
     "output_type": "execute_result"
    }
   ],
   "source": [
    "X_train.shape"
   ]
  },
  {
   "cell_type": "code",
   "execution_count": null,
   "id": "a4105f81-1b53-4d69-ae7b-8f9d3da8d1f5",
   "metadata": {},
   "outputs": [],
   "source": []
  },
  {
   "cell_type": "code",
   "execution_count": 10,
   "id": "b327a07d-503d-47b2-a595-dfd67752497d",
   "metadata": {},
   "outputs": [],
   "source": [
    "#spliting data"
   ]
  },
  {
   "cell_type": "code",
   "execution_count": 11,
   "id": "1f64a5b5-f93d-4d94-8ac4-b5defa0d8cb8",
   "metadata": {},
   "outputs": [],
   "source": [
    "newX_train=[]\n",
    "newX_test=[]\n",
    "newy_train=[]\n",
    "newy_test=[]\n",
    "\n",
    "n = len(X)\n",
    "ostatak = n%5\n",
    "\n",
    "n_train = X_train.shape[0]\n",
    "n_test = y_test.shape[0]\n",
    "for i in range(n_train):\n",
    "    X_pom = X_train[i][:-(ostatak-1)]\n",
    "    pom = np.split(X_pom,5)\n",
    "    for j in range(5):\n",
    "        newX_train.append(pom[j])\n",
    "        newy_train.append(y_train[i])\n",
    "\n",
    "for i in range(n_test):\n",
    "    X_pom = X_test[i][:-(ostatak-1)]\n",
    "    pom = np.split(X_pom,5)\n",
    "    for j in range(5):\n",
    "        newX_test.append(pom[j])\n",
    "        newy_test.append(y_test[i])"
   ]
  },
  {
   "cell_type": "code",
   "execution_count": 12,
   "id": "5b61cf92-410e-4df2-ba1a-581ccfed39db",
   "metadata": {},
   "outputs": [],
   "source": [
    "newX_train = np.array(newX_train)\n",
    "newX_test = np.array(newX_test)"
   ]
  },
  {
   "cell_type": "code",
   "execution_count": 13,
   "id": "bf01647f-ade1-4f33-b20b-23ec99f6bace",
   "metadata": {},
   "outputs": [
    {
     "data": {
      "text/plain": [
       "(3995, 135161, 1)"
      ]
     },
     "execution_count": 13,
     "metadata": {},
     "output_type": "execute_result"
    }
   ],
   "source": [
    "newX_train.shape"
   ]
  },
  {
   "cell_type": "code",
   "execution_count": 14,
   "id": "65d374fd",
   "metadata": {},
   "outputs": [
    {
     "data": {
      "text/plain": [
       "(1000, 135161, 1)"
      ]
     },
     "execution_count": 14,
     "metadata": {},
     "output_type": "execute_result"
    }
   ],
   "source": [
    "newX_test.shape"
   ]
  },
  {
   "cell_type": "code",
   "execution_count": 15,
   "id": "368ca019",
   "metadata": {},
   "outputs": [
    {
     "data": {
      "text/plain": [
       "(200, 675808, 1)"
      ]
     },
     "execution_count": 15,
     "metadata": {},
     "output_type": "execute_result"
    }
   ],
   "source": [
    "X_test.shape"
   ]
  },
  {
   "cell_type": "code",
   "execution_count": null,
   "id": "d7b915d2",
   "metadata": {},
   "outputs": [],
   "source": []
  },
  {
   "cell_type": "code",
   "execution_count": 16,
   "id": "5ec6b332",
   "metadata": {},
   "outputs": [],
   "source": [
    "y_train = to_categorical(y_train)\n",
    "y_test = to_categorical(y_test)"
   ]
  },
  {
   "cell_type": "code",
   "execution_count": 17,
   "id": "d7c05300-4de3-455d-8f22-53b29ad201b4",
   "metadata": {},
   "outputs": [
    {
     "data": {
      "text/plain": [
       "1000"
      ]
     },
     "execution_count": 17,
     "metadata": {},
     "output_type": "execute_result"
    }
   ],
   "source": [
    "len(newy_test)"
   ]
  },
  {
   "cell_type": "code",
   "execution_count": 18,
   "id": "9494637a-e5d0-4388-b24c-d49058deec42",
   "metadata": {},
   "outputs": [
    {
     "data": {
      "text/plain": [
       "3995"
      ]
     },
     "execution_count": 18,
     "metadata": {},
     "output_type": "execute_result"
    }
   ],
   "source": [
    "len(newy_train)"
   ]
  },
  {
   "cell_type": "code",
   "execution_count": 19,
   "id": "9d55cd12-da27-462d-a68f-bf8306dae04d",
   "metadata": {},
   "outputs": [],
   "source": [
    "newy_train = to_categorical(newy_train)\n",
    "newy_test = to_categorical(newy_test)"
   ]
  },
  {
   "cell_type": "code",
   "execution_count": 20,
   "id": "e22463b4-3550-4833-9c9d-caf1a384dfbc",
   "metadata": {},
   "outputs": [
    {
     "data": {
      "text/plain": [
       "(1000, 10)"
      ]
     },
     "execution_count": 20,
     "metadata": {},
     "output_type": "execute_result"
    }
   ],
   "source": [
    "newy_test.shape"
   ]
  },
  {
   "cell_type": "code",
   "execution_count": 21,
   "id": "76a3a2e0-7239-434d-a362-649fca7f006c",
   "metadata": {},
   "outputs": [],
   "source": [
    "new_input_dim = newX_train[0].shape"
   ]
  },
  {
   "cell_type": "code",
   "execution_count": null,
   "id": "dc198fc7-9253-4966-bd6e-0d3f7450b935",
   "metadata": {},
   "outputs": [],
   "source": []
  },
  {
   "cell_type": "code",
   "execution_count": 22,
   "id": "6efe874a-0c1a-432e-ac09-6ec01ee39f09",
   "metadata": {},
   "outputs": [
    {
     "name": "stdout",
     "output_type": "stream",
     "text": [
      "Model: \"sequential\"\n",
      "_________________________________________________________________\n",
      " Layer (type)                Output Shape              Param #   \n",
      "=================================================================\n",
      " conv1d (Conv1D)             (None, 135157, 32)        192       \n",
      "                                                                 \n",
      " max_pooling1d (MaxPooling1  (None, 27031, 32)         0         \n",
      " D)                                                              \n",
      "                                                                 \n",
      " dropout (Dropout)           (None, 27031, 32)         0         \n",
      "                                                                 \n",
      " conv1d_1 (Conv1D)           (None, 27027, 32)         5152      \n",
      "                                                                 \n",
      " max_pooling1d_1 (MaxPoolin  (None, 5405, 32)          0         \n",
      " g1D)                                                            \n",
      "                                                                 \n",
      " dropout_1 (Dropout)         (None, 5405, 32)          0         \n",
      "                                                                 \n",
      " conv1d_2 (Conv1D)           (None, 5401, 32)          5152      \n",
      "                                                                 \n",
      " max_pooling1d_2 (MaxPoolin  (None, 1080, 32)          0         \n",
      " g1D)                                                            \n",
      "                                                                 \n",
      " dropout_2 (Dropout)         (None, 1080, 32)          0         \n",
      "                                                                 \n",
      " conv1d_3 (Conv1D)           (None, 1076, 32)          5152      \n",
      "                                                                 \n",
      " max_pooling1d_3 (MaxPoolin  (None, 215, 32)           0         \n",
      " g1D)                                                            \n",
      "                                                                 \n",
      " dropout_3 (Dropout)         (None, 215, 32)           0         \n",
      "                                                                 \n",
      " conv1d_4 (Conv1D)           (None, 211, 32)           5152      \n",
      "                                                                 \n",
      " max_pooling1d_4 (MaxPoolin  (None, 42, 32)            0         \n",
      " g1D)                                                            \n",
      "                                                                 \n",
      " dropout_4 (Dropout)         (None, 42, 32)            0         \n",
      "                                                                 \n",
      " conv1d_5 (Conv1D)           (None, 38, 32)            5152      \n",
      "                                                                 \n",
      " max_pooling1d_5 (MaxPoolin  (None, 7, 32)             0         \n",
      " g1D)                                                            \n",
      "                                                                 \n",
      " dropout_5 (Dropout)         (None, 7, 32)             0         \n",
      "                                                                 \n",
      " flatten (Flatten)           (None, 224)               0         \n",
      "                                                                 \n",
      " dense (Dense)               (None, 10)                2250      \n",
      "                                                                 \n",
      "=================================================================\n",
      "Total params: 28202 (110.16 KB)\n",
      "Trainable params: 28202 (110.16 KB)\n",
      "Non-trainable params: 0 (0.00 Byte)\n",
      "_________________________________________________________________\n",
      "Epoch 1/10\n",
      "100/100 [==============================] - 239s 2s/step - loss: 2.1722 - accuracy: 0.1921 - val_loss: 2.0075 - val_accuracy: 0.2466\n",
      "Epoch 2/10\n",
      "100/100 [==============================] - 225s 2s/step - loss: 1.8855 - accuracy: 0.3101 - val_loss: 1.8177 - val_accuracy: 0.3004\n",
      "Epoch 3/10\n",
      "100/100 [==============================] - 213s 2s/step - loss: 1.7024 - accuracy: 0.3795 - val_loss: 1.7069 - val_accuracy: 0.3429\n",
      "Epoch 4/10\n",
      "100/100 [==============================] - 215s 2s/step - loss: 1.5674 - accuracy: 0.4277 - val_loss: 1.5703 - val_accuracy: 0.4055\n",
      "Epoch 5/10\n",
      "100/100 [==============================] - 255s 3s/step - loss: 1.4647 - accuracy: 0.4800 - val_loss: 1.5500 - val_accuracy: 0.4080\n",
      "Epoch 6/10\n",
      "100/100 [==============================] - 262s 3s/step - loss: 1.3653 - accuracy: 0.5113 - val_loss: 1.4622 - val_accuracy: 0.4756\n",
      "Epoch 7/10\n",
      "100/100 [==============================] - 260s 3s/step - loss: 1.2671 - accuracy: 0.5538 - val_loss: 1.4385 - val_accuracy: 0.4768\n",
      "Epoch 8/10\n",
      "100/100 [==============================] - 257s 3s/step - loss: 1.1999 - accuracy: 0.5723 - val_loss: 1.4348 - val_accuracy: 0.4731\n",
      "Epoch 9/10\n",
      "100/100 [==============================] - 257s 3s/step - loss: 1.1302 - accuracy: 0.5948 - val_loss: 1.3685 - val_accuracy: 0.4919\n",
      "Epoch 10/10\n",
      "100/100 [==============================] - 257s 3s/step - loss: 1.0986 - accuracy: 0.5979 - val_loss: 1.4037 - val_accuracy: 0.5044\n"
     ]
    }
   ],
   "source": [
    "model= Sequential([\n",
    "    InputLayer(input_shape=new_input_dim),\n",
    "    Conv1D(32, 5, activation='relu'),\n",
    "    MaxPool1D(5),\n",
    "    Dropout(0.3),\n",
    "    Conv1D(32, 5, activation='relu'),\n",
    "    MaxPool1D(5),\n",
    "    Dropout(0.25),\n",
    "    Conv1D(32, 5, activation='relu'),\n",
    "    MaxPool1D(5),\n",
    "    Dropout(0.2),\n",
    "    Conv1D(32, 5, activation='relu'),\n",
    "    MaxPool1D(5),\n",
    "    Dropout(0.1),\n",
    "    Conv1D(32, 5, activation='relu'),\n",
    "    MaxPool1D(5),\n",
    "    Dropout(0.1),\n",
    "    Conv1D(32, 5, activation='relu'),\n",
    "    MaxPool1D(5),\n",
    "    Dropout(0.1),\n",
    "    Flatten(),\n",
    "    Dense(10, activation='softmax')\n",
    "])\n",
    "model.summary()\n",
    "model.compile(loss=CategoricalCrossentropy(), optimizer=Adam(0.001), metrics=['accuracy'])\n",
    "history = model.fit(newX_train, newy_train, batch_size=32, epochs=10, validation_split=0.2) "
   ]
  },
  {
   "cell_type": "code",
   "execution_count": 23,
   "id": "8d3d164a-8035-45c0-8507-4c47a7a5dce1",
   "metadata": {},
   "outputs": [
    {
     "name": "stdout",
     "output_type": "stream",
     "text": [
      "32/32 [==============================] - 18s 555ms/step - loss: 1.3226 - accuracy: 0.5630\n"
     ]
    },
    {
     "data": {
      "text/plain": [
       "[1.322644829750061, 0.5630000233650208]"
      ]
     },
     "execution_count": 23,
     "metadata": {},
     "output_type": "execute_result"
    }
   ],
   "source": [
    "model.evaluate(newX_test,newy_test)"
   ]
  },
  {
   "cell_type": "code",
   "execution_count": null,
   "id": "d4bbdcb6-5d2d-4324-a640-5f5640fa4eb9",
   "metadata": {},
   "outputs": [],
   "source": []
  },
  {
   "cell_type": "code",
   "execution_count": 24,
   "id": "fd60016c-9450-4f08-9015-fb6748631281",
   "metadata": {},
   "outputs": [],
   "source": [
    "#new_model7= Sequential([\n",
    "#    InputLayer(input_shape=new_input_dim),\n",
    "#    Conv1D(32, 5, activation='relu'),\n",
    "#    MaxPool1D(5),\n",
    "#    Dropout(0.3),\n",
    "#    Conv1D(32, 5, activation='relu'),\n",
    "#    MaxPool1D(5),\n",
    "#    Dropout(0.25),\n",
    "#    Conv1D(32, 5, activation='relu'),\n",
    "#    MaxPool1D(5),\n",
    "#    Dropout(0.2),\n",
    "#    Conv1D(32, 5, activation='relu'),\n",
    "#    MaxPool1D(5),\n",
    "#    Dropout(0.1),\n",
    "#    Conv1D(32, 5, activation='relu'),\n",
    "#    MaxPool1D(5),\n",
    "#    Dropout(0.1),\n",
    "#    Conv1D(32, 5, activation='relu'),\n",
    "#    MaxPool1D(5),\n",
    "#    Dropout(0.1),\n",
    "#    Flatten(),\n",
    "#    Dense(10, activation='softmax')\n",
    "#])\n",
    "#new_model7.summary()\n",
    "#new_model7.compile(loss=CategoricalCrossentropy(), optimizer=Adam(0.001), metrics=['accuracy'])\n",
    "#new_history7 = new_model7.fit(newX_train, newy_train, batch_size=32, epochs=10, validation_split=0.2) \n",
    "\n",
    "#new_model7.evaluate(newX_test,newy_test)"
   ]
  },
  {
   "cell_type": "code",
   "execution_count": 26,
   "id": "513347c3-7cd7-4c94-a337-7fb35a843516",
   "metadata": {},
   "outputs": [
    {
     "data": {
      "image/png": "[encoded data removed]",
      "text/plain": [
       "<Figure size 640x480 with 1 Axes>"
      ]
     },
     "metadata": {},
     "output_type": "display_data"
    }
   ],
   "source": [
    "plt.plot(history.epoch,history.history['accuracy'])\n",
    "plt.plot(history.epoch,history.history['val_accuracy'])\n",
    "plt.show()"
   ]
  },
  {
   "cell_type": "code",
   "execution_count": null,
   "id": "568aa15d-0da4-4b02-a4ac-58e40b695ba7",
   "metadata": {},
   "outputs": [],
   "source": []
  }
 ],
 "metadata": {
  "kernelspec": {
   "display_name": "Python (GPU)",
   "language": "python",
   "name": "gpu_env"
  },
  "language_info": {
   "codemirror_mode": {
    "name": "ipython",
    "version": 3
   },
   "file_extension": ".py",
   "mimetype": "text/x-python",
   "name": "python",
   "nbconvert_exporter": "python",
   "pygments_lexer": "ipython3",
   "version": "3.9.6"
  }
 },
 "nbformat": 4,
 "nbformat_minor": 5
}
