{
  "cells": [
    {
      "cell_type": "code",
      "execution_count": 1,
      "id": "5e8af443",
      "metadata": {
        "id": "5e8af443"
      },
      "outputs": [],
      "source": [
        "import numpy as np\n",
        "\n",
        "from datasets import load_dataset, Audio, DatasetDict\n",
        "from transformers import AutoFeatureExtractor, AutoModelForAudioClassification, TrainingArguments, Trainer\n",
        "\n",
        "import evaluate\n",
        "import torch"
      ]
    },
    {
      "cell_type": "code",
      "source": [
        "# !pip install datasets transformers==4.28.0\n",
        "# !pip install evaluate"
      ],
      "metadata": {
        "id": "ig2kUHbFiDaR"
      },
      "id": "ig2kUHbFiDaR",
      "execution_count": 2,
      "outputs": []
    },
    {
      "cell_type": "code",
      "source": [
        "# from google.colab import drive\n",
        "# drive.mount('/content/drive')"
      ],
      "metadata": {
        "id": "kuPLbCoPAtvY"
      },
      "id": "kuPLbCoPAtvY",
      "execution_count": 3,
      "outputs": []
    },
    {
      "cell_type": "code",
      "execution_count": 4,
      "id": "032f9df4",
      "metadata": {
        "colab": {
          "base_uri": "https://localhost:8080/",
          "height": 49,
          "referenced_widgets": [
            "bed1d7a439ab4a00bc3fd28a3b033666",
            "5391057f2e9944198dd7c61f65f8935a",
            "6b3ebcccd26b46ec8bea13c7433c0827",
            "baa58996975e46d889674e8e13af5499",
            "445a7666337f42b08e9a8b5ddd64b7e5",
            "801f7b3a79f34f3091618be13a239ac6",
            "2623cfefd9c8481eb70822a8bc41c958",
            "65b7be81d4f94e5da1aa8b8c297671c1",
            "8d791e74723b4041b89a6dd016f77641",
            "9ca58e5d951b4144b29a0ce366f118dd",
            "f12ae5bdaa524dfab3cf4a3b95cca927"
          ]
        },
        "id": "032f9df4",
        "outputId": "9f1fea72-0a8e-40ae-99c4-733ea19fed16"
      },
      "outputs": [
        {
          "output_type": "display_data",
          "data": {
            "text/plain": [
              "Resolving data files:   0%|          | 0/999 [00:00<?, ?it/s]"
            ],
            "application/vnd.jupyter.widget-view+json": {
              "version_major": 2,
              "version_minor": 0,
              "model_id": "bed1d7a439ab4a00bc3fd28a3b033666"
            }
          },
          "metadata": {}
        }
      ],
      "source": [
        "data = load_dataset('audiofolder', data_dir='drive/MyDrive/data', split=\"train\")"
      ]
    },
    {
      "cell_type": "code",
      "execution_count": 5,
      "id": "17c492a9",
      "metadata": {
        "id": "17c492a9"
      },
      "outputs": [],
      "source": [
        "data_train_testval = data.train_test_split(test_size=0.2, stratify_by_column='label')"
      ]
    },
    {
      "cell_type": "code",
      "execution_count": 6,
      "id": "5f7d581b",
      "metadata": {
        "id": "5f7d581b"
      },
      "outputs": [],
      "source": [
        "data_val_test = data_train_testval['test'].train_test_split(0.5, stratify_by_column='label')"
      ]
    },
    {
      "cell_type": "code",
      "source": [
        "data = DatasetDict({\n",
        "    'train' : data_train_testval['train'],\n",
        "    'val' : data_val_test['train'],\n",
        "    'test' : data_val_test['test']\n",
        "})"
      ],
      "metadata": {
        "id": "monqr-dQi7dt"
      },
      "id": "monqr-dQi7dt",
      "execution_count": 7,
      "outputs": []
    },
    {
      "cell_type": "code",
      "source": [
        "data"
      ],
      "metadata": {
        "colab": {
          "base_uri": "https://localhost:8080/"
        },
        "id": "ygAxX4cAjOxr",
        "outputId": "0bab287e-270e-4fa8-fb2a-5f33790275a3"
      },
      "id": "ygAxX4cAjOxr",
      "execution_count": 8,
      "outputs": [
        {
          "output_type": "execute_result",
          "data": {
            "text/plain": [
              "DatasetDict({\n",
              "    train: Dataset({\n",
              "        features: ['audio', 'label'],\n",
              "        num_rows: 799\n",
              "    })\n",
              "    val: Dataset({\n",
              "        features: ['audio', 'label'],\n",
              "        num_rows: 100\n",
              "    })\n",
              "    test: Dataset({\n",
              "        features: ['audio', 'label'],\n",
              "        num_rows: 100\n",
              "    })\n",
              "})"
            ]
          },
          "metadata": {},
          "execution_count": 8
        }
      ]
    },
    {
      "cell_type": "code",
      "execution_count": 9,
      "id": "de5ac788",
      "metadata": {
        "id": "de5ac788"
      },
      "outputs": [],
      "source": [
        "labels = data[\"train\"].features[\"label\"].names\n",
        "label2id, id2label = dict(), dict()\n",
        "for i, label in enumerate(labels):\n",
        "    label2id[label] = str(i)\n",
        "    id2label[str(i)] = label"
      ]
    },
    {
      "cell_type": "code",
      "source": [],
      "metadata": {
        "id": "Y4RmegdlDaWq"
      },
      "id": "Y4RmegdlDaWq",
      "execution_count": 9,
      "outputs": []
    },
    {
      "cell_type": "code",
      "execution_count": 10,
      "id": "7367c04d",
      "metadata": {
        "colab": {
          "base_uri": "https://localhost:8080/"
        },
        "id": "7367c04d",
        "outputId": "2dfdd42c-951d-45ae-8abb-5874b0baab89"
      },
      "outputs": [
        {
          "output_type": "execute_result",
          "data": {
            "text/plain": [
              "{'blues': '0',\n",
              " 'classical': '1',\n",
              " 'country': '2',\n",
              " 'disco': '3',\n",
              " 'hiphop': '4',\n",
              " 'jazz': '5',\n",
              " 'metal': '6',\n",
              " 'pop': '7',\n",
              " 'reggae': '8',\n",
              " 'rock': '9'}"
            ]
          },
          "metadata": {},
          "execution_count": 10
        }
      ],
      "source": [
        "label2id"
      ]
    },
    {
      "cell_type": "code",
      "execution_count": 11,
      "id": "5405c9a0",
      "metadata": {
        "colab": {
          "base_uri": "https://localhost:8080/"
        },
        "id": "5405c9a0",
        "outputId": "4a4145de-ef71-4a01-c4d8-43aebc3678b9"
      },
      "outputs": [
        {
          "output_type": "execute_result",
          "data": {
            "text/plain": [
              "{'0': 'blues',\n",
              " '1': 'classical',\n",
              " '2': 'country',\n",
              " '3': 'disco',\n",
              " '4': 'hiphop',\n",
              " '5': 'jazz',\n",
              " '6': 'metal',\n",
              " '7': 'pop',\n",
              " '8': 'reggae',\n",
              " '9': 'rock'}"
            ]
          },
          "metadata": {},
          "execution_count": 11
        }
      ],
      "source": [
        "id2label"
      ]
    },
    {
      "cell_type": "code",
      "source": [
        "PRETRAINED_MODEL = \"facebook/wav2vec2-base-960h\""
      ],
      "metadata": {
        "id": "rwsMT8LAjjKS"
      },
      "id": "rwsMT8LAjjKS",
      "execution_count": 12,
      "outputs": []
    },
    {
      "cell_type": "code",
      "execution_count": 13,
      "id": "5d140cb2",
      "metadata": {
        "id": "5d140cb2"
      },
      "outputs": [],
      "source": [
        "feature_extractor = AutoFeatureExtractor.from_pretrained(PRETRAINED_MODEL, do_normalize=True, return_attention_mask=True)"
      ]
    },
    {
      "cell_type": "code",
      "source": [
        "sampling_rate = feature_extractor.sampling_rate\n",
        "sampling_rate"
      ],
      "metadata": {
        "colab": {
          "base_uri": "https://localhost:8080/"
        },
        "id": "egFxZql4jig3",
        "outputId": "a6e711d2-f03a-41bc-8dc0-c0c9a66af2a4"
      },
      "id": "egFxZql4jig3",
      "execution_count": 14,
      "outputs": [
        {
          "output_type": "execute_result",
          "data": {
            "text/plain": [
              "16000"
            ]
          },
          "metadata": {},
          "execution_count": 14
        }
      ]
    },
    {
      "cell_type": "code",
      "source": [],
      "metadata": {
        "id": "VdDbpv_FDIdI"
      },
      "id": "VdDbpv_FDIdI",
      "execution_count": 14,
      "outputs": []
    },
    {
      "cell_type": "code",
      "source": [],
      "metadata": {
        "id": "7dw1NcJiDH_z"
      },
      "id": "7dw1NcJiDH_z",
      "execution_count": 14,
      "outputs": []
    },
    {
      "cell_type": "code",
      "source": [],
      "metadata": {
        "id": "aq8xUYR_kQGY"
      },
      "id": "aq8xUYR_kQGY",
      "execution_count": 14,
      "outputs": []
    },
    {
      "cell_type": "code",
      "execution_count": 15,
      "id": "3e99e87e",
      "metadata": {
        "id": "3e99e87e"
      },
      "outputs": [],
      "source": [
        "data = data.cast_column(\"audio\", Audio(sampling_rate=sampling_rate))"
      ]
    },
    {
      "cell_type": "code",
      "execution_count": 16,
      "id": "c8918cae",
      "metadata": {
        "colab": {
          "base_uri": "https://localhost:8080/"
        },
        "id": "c8918cae",
        "outputId": "226b558b-dd8e-4da3-c32c-e232ee8cc1ad"
      },
      "outputs": [
        {
          "output_type": "execute_result",
          "data": {
            "text/plain": [
              "{'audio': {'path': '/content/drive/MyDrive/data/classical/classical.00038.wav',\n",
              "  'array': array([-0.07147478, -0.11915156, -0.08404056, ..., -0.07367378,\n",
              "         -0.1258204 ,  0.        ]),\n",
              "  'sampling_rate': 16000},\n",
              " 'label': 1}"
            ]
          },
          "metadata": {},
          "execution_count": 16
        }
      ],
      "source": [
        "data[\"train\"][0]"
      ]
    },
    {
      "cell_type": "code",
      "source": [
        "(np.mean(data['train'][0]['audio']['array']))"
      ],
      "metadata": {
        "colab": {
          "base_uri": "https://localhost:8080/"
        },
        "id": "8nc39CO8lAhQ",
        "outputId": "6214f291-7efd-4e77-c46f-dcd637bf23ba"
      },
      "id": "8nc39CO8lAhQ",
      "execution_count": 17,
      "outputs": [
        {
          "output_type": "execute_result",
          "data": {
            "text/plain": [
              "0.00020896931087431938"
            ]
          },
          "metadata": {},
          "execution_count": 17
        }
      ]
    },
    {
      "cell_type": "code",
      "source": [
        "np.var(data['train'][0]['audio']['array'])"
      ],
      "metadata": {
        "colab": {
          "base_uri": "https://localhost:8080/"
        },
        "id": "bMgykk-llT15",
        "outputId": "2acc709b-25bd-49e1-9562-a6f0582585b4"
      },
      "id": "bMgykk-llT15",
      "execution_count": 18,
      "outputs": [
        {
          "output_type": "execute_result",
          "data": {
            "text/plain": [
              "0.0030606209779248353"
            ]
          },
          "metadata": {},
          "execution_count": 18
        }
      ]
    },
    {
      "cell_type": "code",
      "execution_count": 19,
      "id": "b8bb5f72",
      "metadata": {
        "id": "b8bb5f72"
      },
      "outputs": [],
      "source": [
        "max_duration = 30.0\n",
        "\n",
        "\n",
        "def preprocess_function(examples):\n",
        "    audio_arrays = [x[\"array\"] for x in examples[\"audio\"]]\n",
        "    inputs = feature_extractor(\n",
        "        audio_arrays,\n",
        "        sampling_rate=feature_extractor.sampling_rate,\n",
        "        max_length=int(feature_extractor.sampling_rate * max_duration),\n",
        "        truncation=True,\n",
        "        return_attention_mask=True,\n",
        "    )\n",
        "    return inputs\n",
        "# def preprocess_function(examples):\n",
        "#     audio_arrays = [x[\"array\"] for x in examples[\"audio\"]]\n",
        "#     inputs = feature_extractor(audio_arrays, sampling_rate=feature_extractor.sampling_rate, max_length=16000, truncation=True)\n",
        "#     return inputs"
      ]
    },
    {
      "cell_type": "code",
      "execution_count": 20,
      "id": "170d843b",
      "metadata": {
        "colab": {
          "base_uri": "https://localhost:8080/",
          "height": 168,
          "referenced_widgets": [
            "f9a90be345dd4556b1c8dcbd81d8a459",
            "6f38cd908465432e844b3c5a07cace66",
            "4dbbb93aa766442aa7845bec6b6c1fa4",
            "a7c2f04822b044fcb764b6a41ba149f2",
            "26569e8b7f8a4e4491a4cdb89a0472bc",
            "4345e29c8a544ce0ae1997cb7ca7f453",
            "19cedd47d30e4c148786e8b2b50f27ec",
            "d9897d4968e747498b56dcbaa848f1be",
            "d49500f9b2a04757bd56beee328ecba8",
            "1e4aa27ffbf64331914ec26a0f71fcc9",
            "e450027cff714403a39f0d5bfb6992d6",
            "3b125dfd015b4062bae8902082bebd00",
            "c6378bd78b09435697d22f4974b34542",
            "9e8ac20f283640c6ac8e4b6d57ee12b8",
            "266ca61ecb764cd3a39d12b5dc3d8d61",
            "392fee3e819e42f69c41e9e73d048279",
            "f12652d6359343aa9339560d5a50e19e",
            "81f6c888465e4b839be177dfba4ffa1a",
            "018127da56d448c887d091d3b2fdd9cb",
            "29ca20dfc33b471aa29ff3acbdf2d55e",
            "e8d5f2c6a9094c8182f29c56fb419bbb",
            "c59f7aa8502d44c68189c3e276032fd7",
            "f5942b18d2174444add42372495486c9",
            "8d1cb3a3cba74d72922cc77b4062fa68",
            "5906f5d5a1dd4fbdaf7a22e5dd22f502",
            "190d00643eef4157835eedc6eeda8512",
            "4b2699e09dd84637ab74bff5ab43fc9b",
            "8c1b443bc690489b880e5df31304e8f0",
            "d70b8387fbdb416aa21d36b1c32d3aa2",
            "77bed3c5cd8d4bf4a9775f6c2709a63a",
            "5d99c5dfcfe24d13ad420b077aee6a81",
            "b21a2726433043c493aa2afd7b792321",
            "13b5b62886b541769828bbb7a74ecf2f"
          ]
        },
        "id": "170d843b",
        "outputId": "9675bf7d-4788-4659-af2b-5ff00d415afa"
      },
      "outputs": [
        {
          "output_type": "display_data",
          "data": {
            "text/plain": [
              "Map:   0%|          | 0/799 [00:00<?, ? examples/s]"
            ],
            "application/vnd.jupyter.widget-view+json": {
              "version_major": 2,
              "version_minor": 0,
              "model_id": "f9a90be345dd4556b1c8dcbd81d8a459"
            }
          },
          "metadata": {}
        },
        {
          "output_type": "stream",
          "name": "stderr",
          "text": [
            "/usr/local/lib/python3.10/dist-packages/transformers/feature_extraction_utils.py:165: VisibleDeprecationWarning: Creating an ndarray from ragged nested sequences (which is a list-or-tuple of lists-or-tuples-or ndarrays with different lengths or shapes) is deprecated. If you meant to do this, you must specify 'dtype=object' when creating the ndarray.\n",
            "  tensor = as_tensor(value)\n"
          ]
        },
        {
          "output_type": "display_data",
          "data": {
            "text/plain": [
              "Map:   0%|          | 0/100 [00:00<?, ? examples/s]"
            ],
            "application/vnd.jupyter.widget-view+json": {
              "version_major": 2,
              "version_minor": 0,
              "model_id": "3b125dfd015b4062bae8902082bebd00"
            }
          },
          "metadata": {}
        },
        {
          "output_type": "display_data",
          "data": {
            "text/plain": [
              "Map:   0%|          | 0/100 [00:00<?, ? examples/s]"
            ],
            "application/vnd.jupyter.widget-view+json": {
              "version_major": 2,
              "version_minor": 0,
              "model_id": "f5942b18d2174444add42372495486c9"
            }
          },
          "metadata": {}
        }
      ],
      "source": [
        "data = data.map(preprocess_function, remove_columns=\"audio\", batched=True, batch_size=100, num_proc=1)"
      ]
    },
    {
      "cell_type": "code",
      "source": [
        "data"
      ],
      "metadata": {
        "colab": {
          "base_uri": "https://localhost:8080/"
        },
        "id": "tD24kdJg-_92",
        "outputId": "4fadc387-63ff-415f-90c3-7aeffd300c61"
      },
      "id": "tD24kdJg-_92",
      "execution_count": 21,
      "outputs": [
        {
          "output_type": "execute_result",
          "data": {
            "text/plain": [
              "DatasetDict({\n",
              "    train: Dataset({\n",
              "        features: ['label', 'input_values', 'attention_mask'],\n",
              "        num_rows: 799\n",
              "    })\n",
              "    val: Dataset({\n",
              "        features: ['label', 'input_values', 'attention_mask'],\n",
              "        num_rows: 100\n",
              "    })\n",
              "    test: Dataset({\n",
              "        features: ['label', 'input_values', 'attention_mask'],\n",
              "        num_rows: 100\n",
              "    })\n",
              "})"
            ]
          },
          "metadata": {},
          "execution_count": 21
        }
      ]
    },
    {
      "cell_type": "code",
      "source": [],
      "metadata": {
        "id": "bMcwbIIS-_ni"
      },
      "id": "bMcwbIIS-_ni",
      "execution_count": 21,
      "outputs": []
    },
    {
      "cell_type": "code",
      "source": [],
      "metadata": {
        "id": "x4QAa5-m--jL"
      },
      "id": "x4QAa5-m--jL",
      "execution_count": 21,
      "outputs": []
    },
    {
      "cell_type": "code",
      "execution_count": 22,
      "id": "23030bc1",
      "metadata": {
        "id": "23030bc1"
      },
      "outputs": [],
      "source": [
        "accuracy = evaluate.load(\"accuracy\")"
      ]
    },
    {
      "cell_type": "code",
      "execution_count": 23,
      "id": "ccd69557",
      "metadata": {
        "id": "ccd69557"
      },
      "outputs": [],
      "source": [
        "def compute_metrics(eval_pred):\n",
        "    predictions = np.argmax(eval_pred.predictions, axis=1)\n",
        "    return accuracy.compute(predictions=predictions, references=eval_pred.label_ids)"
      ]
    },
    {
      "cell_type": "code",
      "execution_count": 24,
      "id": "0810e8ec",
      "metadata": {
        "colab": {
          "base_uri": "https://localhost:8080/"
        },
        "id": "0810e8ec",
        "outputId": "9a3a0955-2bb2-4d61-ba4f-7777d7867403"
      },
      "outputs": [
        {
          "output_type": "stream",
          "name": "stderr",
          "text": [
            "Some weights of the model checkpoint at facebook/wav2vec2-base-960h were not used when initializing Wav2Vec2ForSequenceClassification: ['lm_head.weight', 'lm_head.bias']\n",
            "- This IS expected if you are initializing Wav2Vec2ForSequenceClassification from the checkpoint of a model trained on another task or with another architecture (e.g. initializing a BertForSequenceClassification model from a BertForPreTraining model).\n",
            "- This IS NOT expected if you are initializing Wav2Vec2ForSequenceClassification from the checkpoint of a model that you expect to be exactly identical (initializing a BertForSequenceClassification model from a BertForSequenceClassification model).\n",
            "Some weights of Wav2Vec2ForSequenceClassification were not initialized from the model checkpoint at facebook/wav2vec2-base-960h and are newly initialized: ['projector.bias', 'projector.weight', 'classifier.bias', 'classifier.weight', 'wav2vec2.masked_spec_embed']\n",
            "You should probably TRAIN this model on a down-stream task to be able to use it for predictions and inference.\n"
          ]
        }
      ],
      "source": [
        "num_labels = len(id2label)\n",
        "model = AutoModelForAudioClassification.from_pretrained(PRETRAINED_MODEL, num_labels=num_labels, label2id=label2id, id2label=id2label)"
      ]
    },
    {
      "cell_type": "code",
      "execution_count": 25,
      "id": "2df91370",
      "metadata": {
        "id": "2df91370"
      },
      "outputs": [],
      "source": [
        "# data[\"train\"][0]"
      ]
    },
    {
      "cell_type": "code",
      "execution_count": 26,
      "id": "32201502",
      "metadata": {
        "id": "32201502"
      },
      "outputs": [],
      "source": [
        "# data[\"test\"][0]"
      ]
    },
    {
      "cell_type": "code",
      "execution_count": 27,
      "id": "17b2c14b",
      "metadata": {
        "id": "17b2c14b"
      },
      "outputs": [],
      "source": [
        "BATCH_SIZE = 1\n",
        "EPOCHS = 10"
      ]
    },
    {
      "cell_type": "code",
      "execution_count": 28,
      "id": "dc1e87f5",
      "metadata": {
        "colab": {
          "base_uri": "https://localhost:8080/",
          "height": 441
        },
        "id": "dc1e87f5",
        "outputId": "4f2c9378-7b38-44cd-be48-4aebb568247b"
      },
      "outputs": [
        {
          "output_type": "display_data",
          "data": {
            "text/plain": [
              "<IPython.core.display.HTML object>"
            ],
            "text/html": [
              "\n",
              "    <div>\n",
              "      \n",
              "      <progress value='7990' max='7990' style='width:300px; height:20px; vertical-align: middle;'></progress>\n",
              "      [7990/7990 2:33:18, Epoch 10/10]\n",
              "    </div>\n",
              "    <table border=\"1\" class=\"dataframe\">\n",
              "  <thead>\n",
              " <tr style=\"text-align: left;\">\n",
              "      <th>Epoch</th>\n",
              "      <th>Training Loss</th>\n",
              "      <th>Validation Loss</th>\n",
              "      <th>Accuracy</th>\n",
              "    </tr>\n",
              "  </thead>\n",
              "  <tbody>\n",
              "    <tr>\n",
              "      <td>1</td>\n",
              "      <td>2.235500</td>\n",
              "      <td>2.306051</td>\n",
              "      <td>0.100000</td>\n",
              "    </tr>\n",
              "    <tr>\n",
              "      <td>2</td>\n",
              "      <td>2.346000</td>\n",
              "      <td>2.303717</td>\n",
              "      <td>0.100000</td>\n",
              "    </tr>\n",
              "    <tr>\n",
              "      <td>3</td>\n",
              "      <td>2.342200</td>\n",
              "      <td>2.303565</td>\n",
              "      <td>0.100000</td>\n",
              "    </tr>\n",
              "    <tr>\n",
              "      <td>4</td>\n",
              "      <td>2.310500</td>\n",
              "      <td>2.303040</td>\n",
              "      <td>0.100000</td>\n",
              "    </tr>\n",
              "    <tr>\n",
              "      <td>5</td>\n",
              "      <td>2.285000</td>\n",
              "      <td>2.302766</td>\n",
              "      <td>0.100000</td>\n",
              "    </tr>\n",
              "    <tr>\n",
              "      <td>6</td>\n",
              "      <td>2.301500</td>\n",
              "      <td>2.302758</td>\n",
              "      <td>0.100000</td>\n",
              "    </tr>\n",
              "    <tr>\n",
              "      <td>7</td>\n",
              "      <td>2.306600</td>\n",
              "      <td>2.302841</td>\n",
              "      <td>0.100000</td>\n",
              "    </tr>\n",
              "    <tr>\n",
              "      <td>8</td>\n",
              "      <td>2.344800</td>\n",
              "      <td>2.302815</td>\n",
              "      <td>0.100000</td>\n",
              "    </tr>\n",
              "    <tr>\n",
              "      <td>9</td>\n",
              "      <td>2.287300</td>\n",
              "      <td>2.302846</td>\n",
              "      <td>0.100000</td>\n",
              "    </tr>\n",
              "    <tr>\n",
              "      <td>10</td>\n",
              "      <td>2.307700</td>\n",
              "      <td>2.302823</td>\n",
              "      <td>0.100000</td>\n",
              "    </tr>\n",
              "  </tbody>\n",
              "</table><p>"
            ]
          },
          "metadata": {}
        },
        {
          "output_type": "execute_result",
          "data": {
            "text/plain": [
              "TrainOutput(global_step=7990, training_loss=2.306934299397379, metrics={'train_runtime': 9206.6749, 'train_samples_per_second': 0.868, 'train_steps_per_second': 0.868, 'total_flos': 2.176185221991791e+18, 'train_loss': 2.306934299397379, 'epoch': 10.0})"
            ]
          },
          "metadata": {},
          "execution_count": 28
        }
      ],
      "source": [
        "training_args = TrainingArguments(\n",
        "    output_dir=\"music-classification\",\n",
        "    evaluation_strategy=\"epoch\",\n",
        "    save_strategy=\"epoch\",\n",
        "    learning_rate=3e-5,\n",
        "    per_device_train_batch_size=BATCH_SIZE,\n",
        "    gradient_accumulation_steps=1,\n",
        "    per_device_eval_batch_size=BATCH_SIZE,\n",
        "    num_train_epochs=EPOCHS,\n",
        "    warmup_ratio=0.1,\n",
        "    logging_steps=10,\n",
        "    load_best_model_at_end=True,\n",
        "    metric_for_best_model=\"accuracy\",\n",
        "    optim=\"adamw_torch\"\n",
        ")\n",
        "\n",
        "trainer = Trainer(\n",
        "    model=model,\n",
        "    args=training_args,\n",
        "    train_dataset=data[\"train\"],\n",
        "    eval_dataset=data[\"val\"],\n",
        "    tokenizer=feature_extractor,\n",
        "    compute_metrics=compute_metrics,\n",
        ")\n",
        "\n",
        "trainer.train()"
      ]
    },
    {
      "cell_type": "code",
      "source": [],
      "metadata": {
        "id": "m_oekQkiPOAW"
      },
      "id": "m_oekQkiPOAW",
      "execution_count": 30,
      "outputs": []
    },
    {
      "cell_type": "code",
      "source": [
        "trainer.evaluate()"
      ],
      "metadata": {
        "colab": {
          "base_uri": "https://localhost:8080/",
          "height": 141
        },
        "id": "KQABefxK7SgM",
        "outputId": "6ba573ae-877d-4be7-c1d2-e591b8bb1961"
      },
      "id": "KQABefxK7SgM",
      "execution_count": 33,
      "outputs": [
        {
          "output_type": "display_data",
          "data": {
            "text/plain": [
              "<IPython.core.display.HTML object>"
            ],
            "text/html": [
              "\n",
              "    <div>\n",
              "      \n",
              "      <progress value='100' max='100' style='width:300px; height:20px; vertical-align: middle;'></progress>\n",
              "      [100/100 01:13]\n",
              "    </div>\n",
              "    "
            ]
          },
          "metadata": {}
        },
        {
          "output_type": "execute_result",
          "data": {
            "text/plain": [
              "{'eval_loss': 2.3060505390167236,\n",
              " 'eval_accuracy': 0.1,\n",
              " 'eval_runtime': 74.3174,\n",
              " 'eval_samples_per_second': 1.346,\n",
              " 'eval_steps_per_second': 1.346,\n",
              " 'epoch': 10.0}"
            ]
          },
          "metadata": {},
          "execution_count": 33
        }
      ]
    },
    {
      "cell_type": "code",
      "source": [
        "trainer.predict(data['test'])"
      ],
      "metadata": {
        "colab": {
          "base_uri": "https://localhost:8080/",
          "height": 1000
        },
        "id": "wjXB6f8Q7T7H",
        "outputId": "db459d4c-9ebf-4dd4-ab77-bea212d53d76"
      },
      "id": "wjXB6f8Q7T7H",
      "execution_count": 34,
      "outputs": [
        {
          "output_type": "display_data",
          "data": {
            "text/plain": [
              "<IPython.core.display.HTML object>"
            ],
            "text/html": []
          },
          "metadata": {}
        },
        {
          "output_type": "execute_result",
          "data": {
            "text/plain": [
              "PredictionOutput(predictions=array([[-1.14037849e-01, -2.78894287e-02,  4.60867845e-02,\n",
              "        -1.53860599e-01,  1.21407405e-01, -1.10265195e-01,\n",
              "         3.17074731e-02,  4.66588564e-04,  7.63235763e-02,\n",
              "        -3.50783728e-02],\n",
              "       [-1.14388496e-01, -3.06328423e-02,  4.90814447e-02,\n",
              "        -1.57790303e-01,  1.25208318e-01, -1.10707916e-01,\n",
              "         2.91716252e-02,  1.12250133e-03,  7.40353018e-02,\n",
              "        -3.46048400e-02],\n",
              "       [-1.13604389e-01, -3.25564221e-02,  5.29878885e-02,\n",
              "        -1.60764128e-01,  1.27772138e-01, -1.11998737e-01,\n",
              "         2.80429255e-02,  2.39634723e-03,  7.05061629e-02,\n",
              "        -3.48887965e-02],\n",
              "       [-1.14019230e-01, -2.96023525e-02,  4.84721661e-02,\n",
              "        -1.56216353e-01,  1.23639569e-01, -1.10302024e-01,\n",
              "         3.06590982e-02,  8.16936721e-04,  7.44524077e-02,\n",
              "        -3.46023031e-02],\n",
              "       [-1.14389963e-01, -2.97867469e-02,  4.76725288e-02,\n",
              "        -1.57096341e-01,  1.23918481e-01, -1.10149279e-01,\n",
              "         2.98554134e-02,  7.53800501e-04,  7.60149881e-02,\n",
              "        -3.43407169e-02],\n",
              "       [-1.13784604e-01, -3.27479802e-02,  5.30982390e-02,\n",
              "        -1.60773888e-01,  1.28514111e-01, -1.11971408e-01,\n",
              "         2.77786106e-02,  2.44905730e-03,  7.00046048e-02,\n",
              "        -3.47744413e-02],\n",
              "       [-1.14121318e-01, -2.94497814e-02,  4.80239280e-02,\n",
              "        -1.55897453e-01,  1.23283200e-01, -1.10001452e-01,\n",
              "         3.07448339e-02,  6.06606365e-04,  7.45673403e-02,\n",
              "        -3.43337245e-02],\n",
              "       [-1.14379153e-01, -2.87340302e-02,  4.68080901e-02,\n",
              "        -1.54693305e-01,  1.22555740e-01, -1.10244393e-01,\n",
              "         3.10830362e-02,  5.20099537e-04,  7.56783411e-02,\n",
              "        -3.50521505e-02],\n",
              "       [-1.14365116e-01, -2.97337938e-02,  4.81089056e-02,\n",
              "        -1.56123817e-01,  1.23751029e-01, -1.09831870e-01,\n",
              "         3.08189355e-02,  4.70409781e-04,  7.45706558e-02,\n",
              "        -3.45285647e-02],\n",
              "       [-1.14363208e-01, -2.87185386e-02,  4.67388481e-02,\n",
              "        -1.54689461e-01,  1.22086890e-01, -1.09237507e-01,\n",
              "         3.17045227e-02, -8.90417432e-05,  7.57341385e-02,\n",
              "        -3.41699310e-02],\n",
              "       [-1.14196286e-01, -2.74968613e-02,  4.50663976e-02,\n",
              "        -1.53001457e-01,  1.20242909e-01, -1.09405532e-01,\n",
              "         3.23263370e-02, -1.54889975e-04,  7.69629851e-02,\n",
              "        -3.45368385e-02],\n",
              "       [-1.13622829e-01, -3.21070477e-02,  5.27146198e-02,\n",
              "        -1.59947753e-01,  1.27662584e-01, -1.11582577e-01,\n",
              "         2.85433400e-02,  2.05100863e-03,  7.06937090e-02,\n",
              "        -3.45971622e-02],\n",
              "       [-1.14232548e-01, -3.10064387e-02,  5.00503592e-02,\n",
              "        -1.57968864e-01,  1.25801563e-01, -1.10607810e-01,\n",
              "         2.93764304e-02,  1.24143541e-03,  7.27717653e-02,\n",
              "        -3.45559344e-02],\n",
              "       [-1.13649562e-01, -3.02485414e-02,  4.99865226e-02,\n",
              "        -1.57344535e-01,  1.24625899e-01, -1.10889517e-01,\n",
              "         3.01206950e-02,  1.26362883e-03,  7.28331730e-02,\n",
              "        -3.46010029e-02],\n",
              "       [-1.14003249e-01, -3.02704163e-02,  4.92082909e-02,\n",
              "        -1.57248959e-01,  1.24380052e-01, -1.10829413e-01,\n",
              "         2.98335496e-02,  1.24081888e-03,  7.36499503e-02,\n",
              "        -3.47326584e-02],\n",
              "       [-1.14413217e-01, -3.02295592e-02,  4.85814214e-02,\n",
              "        -1.57360300e-01,  1.24705516e-01, -1.10316828e-01,\n",
              "         2.97152866e-02,  9.60009755e-04,  7.43053481e-02,\n",
              "        -3.44226696e-02],\n",
              "       [-1.14223987e-01, -2.97347959e-02,  4.81332690e-02,\n",
              "        -1.56174317e-01,  1.23635314e-01, -1.09845832e-01,\n",
              "         3.06368414e-02,  4.91913059e-04,  7.45956823e-02,\n",
              "        -3.41823064e-02],\n",
              "       [-1.14226483e-01, -2.89091300e-02,  4.72344793e-02,\n",
              "        -1.55122057e-01,  1.22568667e-01, -1.10028550e-01,\n",
              "         3.12032159e-02,  4.55435045e-04,  7.52508119e-02,\n",
              "        -3.47564630e-02],\n",
              "       [-1.13650896e-01, -3.12823579e-02,  5.12696132e-02,\n",
              "        -1.59022436e-01,  1.26093462e-01, -1.11285053e-01,\n",
              "         2.92177144e-02,  1.68338895e-03,  7.21817017e-02,\n",
              "        -3.45486403e-02],\n",
              "       [-1.13711640e-01, -3.20752040e-02,  5.22681214e-02,\n",
              "        -1.59795672e-01,  1.27400592e-01, -1.11536808e-01,\n",
              "         2.85337251e-02,  2.09524226e-03,  7.07959309e-02,\n",
              "        -3.47045362e-02],\n",
              "       [-1.13631807e-01, -2.93744747e-02,  4.85217571e-02,\n",
              "        -1.56190068e-01,  1.23127840e-01, -1.10877834e-01,\n",
              "         3.04855332e-02,  1.14769035e-03,  7.40816072e-02,\n",
              "        -3.47075239e-02],\n",
              "       [-1.14058964e-01, -2.76984423e-02,  4.54136655e-02,\n",
              "        -1.53597116e-01,  1.20276347e-01, -1.09620005e-01,\n",
              "         3.23442854e-02, -1.54584995e-06,  7.71676973e-02,\n",
              "        -3.46888267e-02],\n",
              "       [-1.13857575e-01, -3.04353535e-02,  4.94385213e-02,\n",
              "        -1.57895848e-01,  1.24631941e-01, -1.11433215e-01,\n",
              "         2.92861592e-02,  1.39959261e-03,  7.38306493e-02,\n",
              "        -3.48363407e-02],\n",
              "       [-1.14280708e-01, -2.99648046e-02,  4.81126346e-02,\n",
              "        -1.56782299e-01,  1.23872861e-01, -1.10093541e-01,\n",
              "         3.04333419e-02,  4.91068349e-04,  7.51867741e-02,\n",
              "        -3.43026966e-02],\n",
              "       [-1.13879681e-01, -2.89347991e-02,  4.77352552e-02,\n",
              "        -1.55338332e-01,  1.22589275e-01, -1.10152408e-01,\n",
              "         3.12241744e-02,  6.59815618e-04,  7.47140795e-02,\n",
              "        -3.46432589e-02],\n",
              "       [-1.13728367e-01, -3.05410083e-02,  4.98878360e-02,\n",
              "        -1.58078879e-01,  1.24940231e-01, -1.11251950e-01,\n",
              "         2.95682605e-02,  1.46111997e-03,  7.35618025e-02,\n",
              "        -3.46621200e-02],\n",
              "       [-1.13855779e-01, -3.07182074e-02,  5.01958579e-02,\n",
              "        -1.57930180e-01,  1.25380531e-01, -1.10778883e-01,\n",
              "         2.96775009e-02,  1.31729490e-03,  7.28137940e-02,\n",
              "        -3.44526768e-02],\n",
              "       [-1.13827519e-01, -2.94003561e-02,  4.83749360e-02,\n",
              "        -1.55890375e-01,  1.23206593e-01, -1.10475853e-01,\n",
              "         3.06826271e-02,  9.00006038e-04,  7.42272213e-02,\n",
              "        -3.46492082e-02],\n",
              "       [-1.14420973e-01, -3.00552994e-02,  4.83470559e-02,\n",
              "        -1.56442478e-01,  1.24270275e-01, -1.10238373e-01,\n",
              "         3.01063564e-02,  7.88335805e-04,  7.40937516e-02,\n",
              "        -3.46910320e-02],\n",
              "       [-1.14030436e-01, -2.84294281e-02,  4.67870347e-02,\n",
              "        -1.54605225e-01,  1.21887878e-01, -1.10285208e-01,\n",
              "         3.14115770e-02,  4.81890194e-04,  7.54824057e-02,\n",
              "        -3.49294506e-02],\n",
              "       [-1.14092842e-01, -2.83059254e-02,  4.63594161e-02,\n",
              "        -1.54279262e-01,  1.21365868e-01, -1.09527223e-01,\n",
              "         3.18858698e-02,  3.65014712e-05,  7.59362206e-02,\n",
              "        -3.43535319e-02],\n",
              "       [-1.13599919e-01, -2.97942646e-02,  4.95188311e-02,\n",
              "        -1.56719223e-01,  1.24286510e-01, -1.11035913e-01,\n",
              "         3.02921515e-02,  1.36345124e-03,  7.33198076e-02,\n",
              "        -3.48931253e-02],\n",
              "       [-1.14091165e-01, -3.00220754e-02,  4.89626005e-02,\n",
              "        -1.56589985e-01,  1.24121085e-01, -1.10433124e-01,\n",
              "         3.03914752e-02,  9.08950460e-04,  7.36936778e-02,\n",
              "        -3.47524285e-02],\n",
              "       [-1.14048712e-01, -2.91788671e-02,  4.79224436e-02,\n",
              "        -1.55701503e-01,  1.23462595e-01, -1.10590868e-01,\n",
              "         3.07340994e-02,  9.50537273e-04,  7.44467974e-02,\n",
              "        -3.49875838e-02],\n",
              "       [-1.13778047e-01, -3.16848345e-02,  5.16246744e-02,\n",
              "        -1.59483477e-01,  1.26825541e-01, -1.11815587e-01,\n",
              "         2.84829531e-02,  2.08936562e-03,  7.14791119e-02,\n",
              "        -3.49578634e-02],\n",
              "       [-1.13996424e-01, -3.14803123e-02,  5.07694520e-02,\n",
              "        -1.58973098e-01,  1.26362026e-01, -1.11009166e-01,\n",
              "         2.88094133e-02,  1.59039826e-03,  7.23596886e-02,\n",
              "        -3.43868956e-02],\n",
              "       [-1.13832504e-01, -2.88425516e-02,  4.75925095e-02,\n",
              "        -1.55226558e-01,  1.22322544e-01, -1.10253677e-01,\n",
              "         3.12445369e-02,  5.84706315e-04,  7.48488605e-02,\n",
              "        -3.46358716e-02],\n",
              "       [-1.14311270e-01, -2.82451864e-02,  4.58694734e-02,\n",
              "        -1.54043272e-01,  1.21182770e-01, -1.09984949e-01,\n",
              "         3.14473361e-02,  1.34697329e-04,  7.65814483e-02,\n",
              "        -3.47492881e-02],\n",
              "       [-1.13266334e-01, -3.32174078e-02,  5.41983508e-02,\n",
              "        -1.61903918e-01,  1.29064411e-01, -1.13005750e-01,\n",
              "         2.69396883e-02,  3.03549902e-03,  6.95466250e-02,\n",
              "        -3.50629650e-02],\n",
              "       [-1.14253066e-01, -3.00707389e-02,  4.86672856e-02,\n",
              "        -1.56878605e-01,  1.24396376e-01, -1.10267848e-01,\n",
              "         3.02242897e-02,  7.79070077e-04,  7.41826966e-02,\n",
              "        -3.45156267e-02],\n",
              "       [-1.13862418e-01, -2.87309736e-02,  4.70558181e-02,\n",
              "        -1.55191466e-01,  1.21772014e-01, -1.10601783e-01,\n",
              "         3.10143381e-02,  6.74459734e-04,  7.54049420e-02,\n",
              "        -3.47842611e-02],\n",
              "       [-1.14668339e-01, -2.86728274e-02,  4.62661199e-02,\n",
              "        -1.54990420e-01,  1.22458860e-01, -1.09247476e-01,\n",
              "         3.11772637e-02, -9.25813220e-06,  7.71528557e-02,\n",
              "        -3.42243463e-02],\n",
              "       [-1.14097349e-01, -2.70071980e-02,  4.45485935e-02,\n",
              "        -1.52470738e-01,  1.19418994e-01, -1.09144270e-01,\n",
              "         3.28007750e-02, -4.11325920e-04,  7.78600797e-02,\n",
              "        -3.42947766e-02],\n",
              "       [-1.14000499e-01, -2.92082764e-02,  4.78361771e-02,\n",
              "        -1.55565709e-01,  1.22852921e-01, -1.10234834e-01,\n",
              "         3.08682639e-02,  6.82939892e-04,  7.48470351e-02,\n",
              "        -3.45808826e-02],\n",
              "       [-1.13414146e-01, -3.29080001e-02,  5.33064976e-02,\n",
              "        -1.61609381e-01,  1.28288850e-01, -1.12649716e-01,\n",
              "         2.72324495e-02,  2.69698561e-03,  7.01511428e-02,\n",
              "        -3.47563326e-02],\n",
              "       [-1.14082091e-01, -2.83032563e-02,  4.63337637e-02,\n",
              "        -1.54342607e-01,  1.21291578e-01, -1.09413974e-01,\n",
              "         3.20365690e-02, -3.80914134e-05,  7.61195943e-02,\n",
              "        -3.42840850e-02],\n",
              "       [-1.13979451e-01, -2.90506072e-02,  4.77737486e-02,\n",
              "        -1.55378237e-01,  1.22937985e-01, -1.10608205e-01,\n",
              "         3.08541413e-02,  8.30668607e-04,  7.47617558e-02,\n",
              "        -3.49710099e-02],\n",
              "       [-1.13830477e-01, -2.95447595e-02,  4.84422185e-02,\n",
              "        -1.56278744e-01,  1.23380125e-01, -1.10844180e-01,\n",
              "         3.03862672e-02,  1.05296180e-03,  7.42676333e-02,\n",
              "        -3.48631106e-02],\n",
              "       [-1.14113674e-01, -2.88102664e-02,  4.71366383e-02,\n",
              "        -1.55023485e-01,  1.22326754e-01, -1.10248640e-01,\n",
              "         3.10927220e-02,  5.66208852e-04,  7.52563477e-02,\n",
              "        -3.47932950e-02],\n",
              "       [-1.13436148e-01, -2.78809052e-02,  4.69774753e-02,\n",
              "        -1.54251680e-01,  1.21269129e-01, -1.10913552e-01,\n",
              "         3.15766409e-02,  8.88943323e-04,  7.56489560e-02,\n",
              "        -3.51554975e-02],\n",
              "       [-1.13861091e-01, -2.80483365e-02,  4.66495268e-02,\n",
              "        -1.54238850e-01,  1.21596493e-01, -1.10389233e-01,\n",
              "         3.17605212e-02,  5.85250673e-04,  7.58390427e-02,\n",
              "        -3.51495743e-02],\n",
              "       [-1.13820113e-01, -2.79126130e-02,  4.63653505e-02,\n",
              "        -1.53995976e-01,  1.21007226e-01, -1.10297866e-01,\n",
              "         3.19033675e-02,  4.72266373e-04,  7.62011334e-02,\n",
              "        -3.50009017e-02],\n",
              "       [-1.13655008e-01, -3.00355274e-02,  4.99175824e-02,\n",
              "        -1.57277867e-01,  1.24727413e-01, -1.11498073e-01,\n",
              "         2.98519973e-02,  1.65850681e-03,  7.26703778e-02,\n",
              "        -3.52161191e-02],\n",
              "       [-1.13706708e-01, -2.85067353e-02,  4.75005247e-02,\n",
              "        -1.55057788e-01,  1.22247100e-01, -1.10639051e-01,\n",
              "         3.13708149e-02,  8.44421447e-04,  7.52863958e-02,\n",
              "        -3.50841358e-02],\n",
              "       [-1.13815010e-01, -3.06205861e-02,  5.01988195e-02,\n",
              "        -1.57729238e-01,  1.25513092e-01, -1.11272775e-01,\n",
              "         2.94899736e-02,  1.53116102e-03,  7.27724507e-02,\n",
              "        -3.49394828e-02],\n",
              "       [-1.14253409e-01, -3.02076545e-02,  4.89394590e-02,\n",
              "        -1.57069042e-01,  1.24170661e-01, -1.09755769e-01,\n",
              "         3.05516925e-02,  5.66255883e-04,  7.41634443e-02,\n",
              "        -3.40458974e-02],\n",
              "       [-1.13963246e-01, -3.17143872e-02,  5.07355258e-02,\n",
              "        -1.59780636e-01,  1.26428708e-01, -1.11366883e-01,\n",
              "         2.80927792e-02,  1.79783639e-03,  7.25667253e-02,\n",
              "        -3.44434567e-02],\n",
              "       [-1.14030249e-01, -3.02043688e-02,  4.90801036e-02,\n",
              "        -1.56855285e-01,  1.24450997e-01, -1.10590242e-01,\n",
              "         2.99640056e-02,  1.13767956e-03,  7.34668970e-02,\n",
              "        -3.46093290e-02],\n",
              "       [-1.13919571e-01, -3.14284526e-02,  5.12707606e-02,\n",
              "        -1.58961430e-01,  1.26473621e-01, -1.11225136e-01,\n",
              "         2.90507581e-02,  1.79203006e-03,  7.15220347e-02,\n",
              "        -3.48484665e-02],\n",
              "       [-1.13935627e-01, -2.63578873e-02,  4.37351093e-02,\n",
              "        -1.51772037e-01,  1.18376613e-01, -1.09599560e-01,\n",
              "         3.30442227e-02, -2.47501623e-04,  7.81726316e-02,\n",
              "        -3.48668434e-02],\n",
              "       [-1.14017896e-01, -2.87636723e-02,  4.71478179e-02,\n",
              "        -1.55037925e-01,  1.22292452e-01, -1.09859832e-01,\n",
              "         3.15136388e-02,  3.70654889e-04,  7.52014890e-02,\n",
              "        -3.45492773e-02],\n",
              "       [-1.14201128e-01, -2.75737513e-02,  4.49383259e-02,\n",
              "        -1.53439343e-01,  1.19859561e-01, -1.09158494e-01,\n",
              "         3.26105841e-02, -3.20059567e-04,  7.74150491e-02,\n",
              "        -3.42418998e-02],\n",
              "       [-1.13888606e-01, -2.92132236e-02,  4.80704904e-02,\n",
              "        -1.55665904e-01,  1.23158395e-01, -1.10531449e-01,\n",
              "         3.08245495e-02,  8.26337957e-04,  7.45253637e-02,\n",
              "        -3.48234661e-02],\n",
              "       [-1.13868617e-01, -2.98401508e-02,  4.89296578e-02,\n",
              "        -1.56425521e-01,  1.24068461e-01, -1.10781118e-01,\n",
              "         3.02380342e-02,  1.20205071e-03,  7.36147612e-02,\n",
              "        -3.48989218e-02],\n",
              "       [-1.13989592e-01, -2.92690899e-02,  4.83336598e-02,\n",
              "        -1.55765727e-01,  1.23330854e-01, -1.10452771e-01,\n",
              "         3.09379362e-02,  8.81860615e-04,  7.41635412e-02,\n",
              "        -3.50106806e-02],\n",
              "       [-1.13407984e-01, -2.89168898e-02,  4.77661379e-02,\n",
              "        -1.55818492e-01,  1.22075513e-01, -1.11194462e-01,\n",
              "         3.06126121e-02,  1.30905921e-03,  7.48592839e-02,\n",
              "        -3.48227881e-02],\n",
              "       [-1.13956541e-01, -2.97108367e-02,  4.86109033e-02,\n",
              "        -1.56401008e-01,  1.23643018e-01, -1.10303491e-01,\n",
              "         3.05704605e-02,  7.89208454e-04,  7.41022080e-02,\n",
              "        -3.44113223e-02],\n",
              "       [-1.13832936e-01, -3.05800717e-02,  5.01483083e-02,\n",
              "        -1.57664761e-01,  1.25096068e-01, -1.10891305e-01,\n",
              "         2.98141558e-02,  1.25061872e-03,  7.26932064e-02,\n",
              "        -3.45997363e-02],\n",
              "       [-1.14296816e-01, -2.92149112e-02,  4.69748788e-02,\n",
              "        -1.56139955e-01,  1.22734144e-01, -1.10218748e-01,\n",
              "         3.04840449e-02,  4.63639997e-04,  7.66774118e-02,\n",
              "        -3.44583802e-02],\n",
              "       [-1.14646330e-01, -2.90798470e-02,  4.68163937e-02,\n",
              "        -1.55631378e-01,  1.23123102e-01, -1.10480875e-01,\n",
              "         3.03827170e-02,  8.04944080e-04,  7.53733069e-02,\n",
              "        -3.50895450e-02],\n",
              "       [-1.14016220e-01, -2.96782646e-02,  4.87516858e-02,\n",
              "        -1.56354234e-01,  1.23944908e-01, -1.10948868e-01,\n",
              "         3.02026365e-02,  1.26004417e-03,  7.38089457e-02,\n",
              "        -3.51338163e-02],\n",
              "       [-1.14010319e-01, -2.90577728e-02,  4.76290137e-02,\n",
              "        -1.55385435e-01,  1.22414760e-01, -1.09823227e-01,\n",
              "         3.12794186e-02,  3.83349281e-04,  7.47620761e-02,\n",
              "        -3.43285538e-02],\n",
              "       [-1.14321955e-01, -2.91468427e-02,  4.72796932e-02,\n",
              "        -1.55252054e-01,  1.22702770e-01, -1.09734103e-01,\n",
              "         3.12399175e-02,  2.93841731e-04,  7.51648545e-02,\n",
              "        -3.44669297e-02],\n",
              "       [-1.14100605e-01, -2.99896132e-02,  4.89897169e-02,\n",
              "        -1.56678811e-01,  1.24337405e-01, -1.10295147e-01,\n",
              "         3.04600522e-02,  8.39599990e-04,  7.38426223e-02,\n",
              "        -3.45508568e-02],\n",
              "       [-1.13622338e-01, -3.01234424e-02,  4.95578535e-02,\n",
              "        -1.58267006e-01,  1.24839485e-01, -1.11399300e-01,\n",
              "         2.91255452e-02,  1.58467900e-03,  7.47965798e-02,\n",
              "        -3.47885005e-02],\n",
              "       [-1.14212759e-01, -3.03094722e-02,  4.89584357e-02,\n",
              "        -1.57477081e-01,  1.24920376e-01, -1.10715039e-01,\n",
              "         2.96670776e-02,  1.12159795e-03,  7.39659593e-02,\n",
              "        -3.46197747e-02],\n",
              "       [-1.14024587e-01, -2.83740479e-02,  4.66618463e-02,\n",
              "        -1.54531389e-01,  1.21588498e-01, -1.09626219e-01,\n",
              "         3.18826512e-02,  1.28453277e-04,  7.58256987e-02,\n",
              "        -3.44318524e-02],\n",
              "       [-1.14290357e-01, -2.93543711e-02,  4.75199819e-02,\n",
              "        -1.55804381e-01,  1.23228520e-01, -1.09716162e-01,\n",
              "         3.08702234e-02,  3.09181545e-04,  7.56796226e-02,\n",
              "        -3.42099369e-02],\n",
              "       [-1.14084899e-01, -2.92449389e-02,  4.80630957e-02,\n",
              "        -1.55671373e-01,  1.23392947e-01, -1.10449627e-01,\n",
              "         3.08126938e-02,  8.19484820e-04,  7.45082274e-02,\n",
              "        -3.49712111e-02],\n",
              "       [-1.14130028e-01, -2.84775123e-02,  4.66320477e-02,\n",
              "        -1.54539838e-01,  1.21716611e-01, -1.09518364e-01,\n",
              "         3.18566523e-02,  6.05314563e-05,  7.57566765e-02,\n",
              "        -3.43953222e-02],\n",
              "       [-1.13679744e-01, -3.01738270e-02,  4.95961010e-02,\n",
              "        -1.57343641e-01,  1.24349639e-01, -1.11197278e-01,\n",
              "         2.98299063e-02,  1.43144617e-03,  7.30898306e-02,\n",
              "        -3.48323509e-02],\n",
              "       [-1.13833971e-01, -2.82976422e-02,  4.67014574e-02,\n",
              "        -1.54532105e-01,  1.21502474e-01, -1.10412642e-01,\n",
              "         3.15011963e-02,  6.73167990e-04,  7.57135600e-02,\n",
              "        -3.49609405e-02],\n",
              "       [-1.14049152e-01, -2.92511228e-02,  4.81825061e-02,\n",
              "        -1.55721605e-01,  1.23493344e-01, -1.10482827e-01,\n",
              "         3.08709778e-02,  9.19347280e-04,  7.44805336e-02,\n",
              "        -3.51079367e-02],\n",
              "       [-1.13773115e-01, -3.06486282e-02,  5.02310656e-02,\n",
              "        -1.57738566e-01,  1.25269681e-01, -1.11081496e-01,\n",
              "         2.97622085e-02,  1.45074411e-03,  7.27616921e-02,\n",
              "        -3.48866507e-02],\n",
              "       [-1.14180587e-01, -2.88806036e-02,  4.70280387e-02,\n",
              "        -1.54964566e-01,  1.22207716e-01, -1.09801352e-01,\n",
              "         3.12577635e-02,  2.75722385e-04,  7.54274949e-02,\n",
              "        -3.43689620e-02],\n",
              "       [-1.14218719e-01, -2.92337500e-02,  4.75307405e-02,\n",
              "        -1.55379862e-01,  1.23030469e-01, -1.10205702e-01,\n",
              "         3.08855660e-02,  6.39699050e-04,  7.46733695e-02,\n",
              "        -3.47986966e-02],\n",
              "       [-1.14034280e-01, -3.16737331e-02,  5.12925573e-02,\n",
              "        -1.59219846e-01,  1.26573861e-01, -1.11195296e-01,\n",
              "         2.87949257e-02,  1.59361970e-03,  7.15351254e-02,\n",
              "        -3.46144959e-02],\n",
              "       [-1.13520458e-01, -3.15604806e-02,  5.18379994e-02,\n",
              "        -1.59199372e-01,  1.26818523e-01, -1.11866519e-01,\n",
              "         2.87892688e-02,  2.02350109e-03,  7.14007095e-02,\n",
              "        -3.48745808e-02],\n",
              "       [-1.14124380e-01, -3.12447883e-02,  5.06963506e-02,\n",
              "        -1.58653691e-01,  1.26360953e-01, -1.10897802e-01,\n",
              "         2.92144343e-02,  1.45730621e-03,  7.21077919e-02,\n",
              "        -3.46153937e-02],\n",
              "       [-1.13840498e-01, -3.22098546e-02,  5.18140942e-02,\n",
              "        -1.60232142e-01,  1.27170354e-01, -1.11254066e-01,\n",
              "         2.84154527e-02,  1.72268238e-03,  7.15561956e-02,\n",
              "        -3.42462286e-02],\n",
              "       [-1.13737836e-01, -3.07912882e-02,  5.02042882e-02,\n",
              "        -1.58077240e-01,  1.25426382e-01, -1.11537673e-01,\n",
              "         2.91920807e-02,  1.71459850e-03,  7.27620795e-02,\n",
              "        -3.49139124e-02],\n",
              "       [-1.14368774e-01, -3.09936572e-02,  4.98998798e-02,\n",
              "        -1.58361003e-01,  1.25929087e-01, -1.10700265e-01,\n",
              "         2.89364569e-02,  1.52651046e-03,  7.30053484e-02,\n",
              "        -3.46091278e-02],\n",
              "       [-1.14744097e-01, -2.73623820e-02,  4.42079306e-02,\n",
              "        -1.52419433e-01,  1.19814180e-01, -1.08993687e-01,\n",
              "         3.25980820e-02, -6.88049826e-04,  7.78087601e-02,\n",
              "        -3.46718170e-02],\n",
              "       [-1.13892391e-01, -3.10834870e-02,  5.03496528e-02,\n",
              "        -1.58400744e-01,  1.25433877e-01, -1.11348696e-01,\n",
              "         2.89948899e-02,  1.64212252e-03,  7.23695010e-02,\n",
              "        -3.47099900e-02],\n",
              "       [-1.13690846e-01, -2.83903349e-02,  4.70990166e-02,\n",
              "        -1.54818296e-01,  1.21792383e-01, -1.10695004e-01,\n",
              "         3.13230045e-02,  8.49522767e-04,  7.53886029e-02,\n",
              "        -3.50478515e-02],\n",
              "       [-1.13810703e-01, -3.15605626e-02,  5.13611361e-02,\n",
              "        -1.59066916e-01,  1.26253217e-01, -1.11273296e-01,\n",
              "         2.88416389e-02,  1.79435185e-03,  7.16093779e-02,\n",
              "        -3.46876271e-02],\n",
              "       [-1.13156721e-01, -3.15033123e-02,  5.15859909e-02,\n",
              "        -1.60071820e-01,  1.25898182e-01, -1.12180524e-01,\n",
              "         2.82613728e-02,  2.17285403e-03,  7.21449777e-02,\n",
              "        -3.44125628e-02],\n",
              "       [-1.14076458e-01, -2.83591021e-02,  4.67377491e-02,\n",
              "        -1.54418796e-01,  1.21942468e-01, -1.10328771e-01,\n",
              "         3.13400514e-02,  5.30032092e-04,  7.56619722e-02,\n",
              "        -3.49739045e-02],\n",
              "       [-1.14070997e-01, -2.80036256e-02,  4.59311791e-02,\n",
              "        -1.53962478e-01,  1.20870218e-01, -1.09484673e-01,\n",
              "         3.21569890e-02, -9.59340832e-06,  7.64016882e-02,\n",
              "        -3.44211236e-02],\n",
              "       [-1.13815039e-01, -3.03155687e-02,  4.94399145e-02,\n",
              "        -1.57441691e-01,  1.24431357e-01, -1.10775307e-01,\n",
              "         2.98590232e-02,  1.20321813e-03,  7.36565366e-02,\n",
              "        -3.44409272e-02]], dtype=float32), label_ids=array([2, 8, 5, 7, 4, 7, 3, 2, 0, 6, 9, 3, 9, 3, 0, 8, 9, 0, 8, 7, 9, 1,\n",
              "       8, 4, 0, 4, 7, 2, 9, 1, 0, 7, 0, 5, 8, 8, 9, 0, 8, 3, 1, 4, 6, 5,\n",
              "       8, 6, 3, 0, 2, 9, 1, 1, 9, 1, 3, 4, 8, 9, 7, 1, 5, 6, 2, 5, 5, 1,\n",
              "       3, 7, 4, 5, 2, 6, 6, 3, 4, 8, 6, 0, 2, 6, 5, 1, 5, 7, 6, 2, 7, 3,\n",
              "       3, 4, 5, 9, 2, 0, 1, 7, 4, 2, 6, 4]), metrics={'test_loss': 2.3062245845794678, 'test_accuracy': 0.1, 'test_runtime': 82.5263, 'test_samples_per_second': 1.212, 'test_steps_per_second': 1.212})"
            ]
          },
          "metadata": {},
          "execution_count": 34
        }
      ]
    },
    {
      "cell_type": "code",
      "source": [],
      "metadata": {
        "id": "NLVbBdoe7T9p"
      },
      "id": "NLVbBdoe7T9p",
      "execution_count": null,
      "outputs": []
    },
    {
      "cell_type": "code",
      "source": [],
      "metadata": {
        "id": "j-LtO-8N8sDm"
      },
      "id": "j-LtO-8N8sDm",
      "execution_count": 30,
      "outputs": []
    },
    {
      "cell_type": "code",
      "source": [],
      "metadata": {
        "id": "ewoaVnEO8wX2"
      },
      "id": "ewoaVnEO8wX2",
      "execution_count": 30,
      "outputs": []
    },
    {
      "cell_type": "code",
      "execution_count": null,
      "id": "e8d305a9",
      "metadata": {
        "id": "e8d305a9"
      },
      "outputs": [],
      "source": [
        "from datasets import load_dataset, Audio\n",
        "\n",
        "dataset = load_dataset('audiofolder', data_dir='./data', split=\"train\")\n",
        "dataset = dataset.cast_column(\"audio\", Audio(sampling_rate=16000))\n",
        "sampling_rate = dataset.features[\"audio\"].sampling_rate\n",
        "audio_file = dataset[1][\"audio\"][\"path\"]"
      ]
    },
    {
      "cell_type": "code",
      "execution_count": null,
      "id": "ae2c09c9",
      "metadata": {
        "id": "ae2c09c9"
      },
      "outputs": [],
      "source": [
        "from transformers import AutoFeatureExtractor\n",
        "\n",
        "feature_extractor = AutoFeatureExtractor.from_pretrained(\"./music-classification/checkpoint-18/\")\n",
        "inputs = feature_extractor(dataset[0][\"audio\"][\"array\"], sampling_rate=sampling_rate, return_tensors=\"pt\")"
      ]
    },
    {
      "cell_type": "code",
      "execution_count": null,
      "id": "f9b2c7a3",
      "metadata": {
        "id": "f9b2c7a3"
      },
      "outputs": [],
      "source": [
        "from transformers import AutoModelForAudioClassification\n",
        "\n",
        "model = AutoModelForAudioClassification.from_pretrained(\"./music-classification/checkpoint-18/\")\n",
        "with torch.no_grad():\n",
        "    logits = model(**inputs).logits"
      ]
    },
    {
      "cell_type": "code",
      "execution_count": null,
      "id": "55612994",
      "metadata": {
        "id": "55612994"
      },
      "outputs": [],
      "source": [
        "predicted_class_ids = torch.argmax(logits).item()\n",
        "predicted_label = model.config.id2label[predicted_class_ids]\n",
        "predicted_label"
      ]
    },
    {
      "cell_type": "code",
      "execution_count": null,
      "id": "1ad5924a",
      "metadata": {
        "id": "1ad5924a"
      },
      "outputs": [],
      "source": [
        "audio_file"
      ]
    },
    {
      "cell_type": "code",
      "execution_count": null,
      "id": "72920f9b",
      "metadata": {
        "id": "72920f9b"
      },
      "outputs": [],
      "source": [
        "trainer.evaluate()"
      ]
    },
    {
      "cell_type": "code",
      "execution_count": null,
      "id": "b1e3d16e",
      "metadata": {
        "id": "b1e3d16e"
      },
      "outputs": [],
      "source": []
    },
    {
      "cell_type": "code",
      "source": [
        "res = trainer.predict(data['test'])"
      ],
      "metadata": {
        "id": "rLoFuQfHGBgJ"
      },
      "id": "rLoFuQfHGBgJ",
      "execution_count": null,
      "outputs": []
    },
    {
      "cell_type": "code",
      "source": [
        "res"
      ],
      "metadata": {
        "id": "RKIelwAAJF5l"
      },
      "id": "RKIelwAAJF5l",
      "execution_count": null,
      "outputs": []
    },
    {
      "cell_type": "code",
      "source": [
        "res.predictions"
      ],
      "metadata": {
        "id": "vjZl8wZoJ8iL"
      },
      "id": "vjZl8wZoJ8iL",
      "execution_count": null,
      "outputs": []
    },
    {
      "cell_type": "code",
      "source": [
        "res.label_ids"
      ],
      "metadata": {
        "id": "VsEJCqMPKAVy"
      },
      "id": "VsEJCqMPKAVy",
      "execution_count": null,
      "outputs": []
    },
    {
      "cell_type": "code",
      "source": [
        "%env PYTORCH_CUDA_ALLOC_CONF=max_split_size_mb:512"
      ],
      "metadata": {
        "id": "DklQ9gvBKN2V"
      },
      "id": "DklQ9gvBKN2V",
      "execution_count": null,
      "outputs": []
    },
    {
      "cell_type": "code",
      "source": [],
      "metadata": {
        "id": "AM5Dl_d1Kek0"
      },
      "id": "AM5Dl_d1Kek0",
      "execution_count": null,
      "outputs": []
    }
  ],
  "metadata": {
    "kernelspec": {
      "display_name": "Python 3",
      "name": "python3"
    },
    "language_info": {
      "codemirror_mode": {
        "name": "ipython",
        "version": 3
      },
      "file_extension": ".py",
      "mimetype": "text/x-python",
      "name": "python",
      "nbconvert_exporter": "python",
      "pygments_lexer": "ipython3",
      "version": "3.10.12"
    },
    "colab": {
      "provenance": [],
      "gpuType": "T4"
    },
    "accelerator": "GPU",
    "widgets": {
      "application/vnd.jupyter.widget-state+json": {
        "bed1d7a439ab4a00bc3fd28a3b033666": {
          "model_module": "@jupyter-widgets/controls",
          "model_name": "HBoxModel",
          "model_module_version": "1.5.0",
          "state": {
            "_dom_classes": [],
            "_model_module": "@jupyter-widgets/controls",
            "_model_module_version": "1.5.0",
            "_model_name": "HBoxModel",
            "_view_count": null,
            "_view_module": "@jupyter-widgets/controls",
            "_view_module_version": "1.5.0",
            "_view_name": "HBoxView",
            "box_style": "",
            "children": [
              "IPY_MODEL_5391057f2e9944198dd7c61f65f8935a",
              "IPY_MODEL_6b3ebcccd26b46ec8bea13c7433c0827",
              "IPY_MODEL_baa58996975e46d889674e8e13af5499"
            ],
            "layout": "IPY_MODEL_445a7666337f42b08e9a8b5ddd64b7e5"
          }
        },
        "5391057f2e9944198dd7c61f65f8935a": {
          "model_module": "@jupyter-widgets/controls",
          "model_name": "HTMLModel",
          "model_module_version": "1.5.0",
          "state": {
            "_dom_classes": [],
            "_model_module": "@jupyter-widgets/controls",
            "_model_module_version": "1.5.0",
            "_model_name": "HTMLModel",
            "_view_count": null,
            "_view_module": "@jupyter-widgets/controls",
            "_view_module_version": "1.5.0",
            "_view_name": "HTMLView",
            "description": "",
            "description_tooltip": null,
            "layout": "IPY_MODEL_801f7b3a79f34f3091618be13a239ac6",
            "placeholder": "​",
            "style": "IPY_MODEL_2623cfefd9c8481eb70822a8bc41c958",
            "value": "Resolving data files: 100%"
          }
        },
        "6b3ebcccd26b46ec8bea13c7433c0827": {
          "model_module": "@jupyter-widgets/controls",
          "model_name": "FloatProgressModel",
          "model_module_version": "1.5.0",
          "state": {
            "_dom_classes": [],
            "_model_module": "@jupyter-widgets/controls",
            "_model_module_version": "1.5.0",
            "_model_name": "FloatProgressModel",
            "_view_count": null,
            "_view_module": "@jupyter-widgets/controls",
            "_view_module_version": "1.5.0",
            "_view_name": "ProgressView",
            "bar_style": "success",
            "description": "",
            "description_tooltip": null,
            "layout": "IPY_MODEL_65b7be81d4f94e5da1aa8b8c297671c1",
            "max": 999,
            "min": 0,
            "orientation": "horizontal",
            "style": "IPY_MODEL_8d791e74723b4041b89a6dd016f77641",
            "value": 999
          }
        },
        "baa58996975e46d889674e8e13af5499": {
          "model_module": "@jupyter-widgets/controls",
          "model_name": "HTMLModel",
          "model_module_version": "1.5.0",
          "state": {
            "_dom_classes": [],
            "_model_module": "@jupyter-widgets/controls",
            "_model_module_version": "1.5.0",
            "_model_name": "HTMLModel",
            "_view_count": null,
            "_view_module": "@jupyter-widgets/controls",
            "_view_module_version": "1.5.0",
            "_view_name": "HTMLView",
            "description": "",
            "description_tooltip": null,
            "layout": "IPY_MODEL_9ca58e5d951b4144b29a0ce366f118dd",
            "placeholder": "​",
            "style": "IPY_MODEL_f12ae5bdaa524dfab3cf4a3b95cca927",
            "value": " 999/999 [00:00&lt;00:00, 16710.11it/s]"
          }
        },
        "445a7666337f42b08e9a8b5ddd64b7e5": {
          "model_module": "@jupyter-widgets/base",
          "model_name": "LayoutModel",
          "model_module_version": "1.2.0",
          "state": {
            "_model_module": "@jupyter-widgets/base",
            "_model_module_version": "1.2.0",
            "_model_name": "LayoutModel",
            "_view_count": null,
            "_view_module": "@jupyter-widgets/base",
            "_view_module_version": "1.2.0",
            "_view_name": "LayoutView",
            "align_content": null,
            "align_items": null,
            "align_self": null,
            "border": null,
            "bottom": null,
            "display": null,
            "flex": null,
            "flex_flow": null,
            "grid_area": null,
            "grid_auto_columns": null,
            "grid_auto_flow": null,
            "grid_auto_rows": null,
            "grid_column": null,
            "grid_gap": null,
            "grid_row": null,
            "grid_template_areas": null,
            "grid_template_columns": null,
            "grid_template_rows": null,
            "height": null,
            "justify_content": null,
            "justify_items": null,
            "left": null,
            "margin": null,
            "max_height": null,
            "max_width": null,
            "min_height": null,
            "min_width": null,
            "object_fit": null,
            "object_position": null,
            "order": null,
            "overflow": null,
            "overflow_x": null,
            "overflow_y": null,
            "padding": null,
            "right": null,
            "top": null,
            "visibility": null,
            "width": null
          }
        },
        "801f7b3a79f34f3091618be13a239ac6": {
          "model_module": "@jupyter-widgets/base",
          "model_name": "LayoutModel",
          "model_module_version": "1.2.0",
          "state": {
            "_model_module": "@jupyter-widgets/base",
            "_model_module_version": "1.2.0",
            "_model_name": "LayoutModel",
            "_view_count": null,
            "_view_module": "@jupyter-widgets/base",
            "_view_module_version": "1.2.0",
            "_view_name": "LayoutView",
            "align_content": null,
            "align_items": null,
            "align_self": null,
            "border": null,
            "bottom": null,
            "display": null,
            "flex": null,
            "flex_flow": null,
            "grid_area": null,
            "grid_auto_columns": null,
            "grid_auto_flow": null,
            "grid_auto_rows": null,
            "grid_column": null,
            "grid_gap": null,
            "grid_row": null,
            "grid_template_areas": null,
            "grid_template_columns": null,
            "grid_template_rows": null,
            "height": null,
            "justify_content": null,
            "justify_items": null,
            "left": null,
            "margin": null,
            "max_height": null,
            "max_width": null,
            "min_height": null,
            "min_width": null,
            "object_fit": null,
            "object_position": null,
            "order": null,
            "overflow": null,
            "overflow_x": null,
            "overflow_y": null,
            "padding": null,
            "right": null,
            "top": null,
            "visibility": null,
            "width": null
          }
        },
        "2623cfefd9c8481eb70822a8bc41c958": {
          "model_module": "@jupyter-widgets/controls",
          "model_name": "DescriptionStyleModel",
          "model_module_version": "1.5.0",
          "state": {
            "_model_module": "@jupyter-widgets/controls",
            "_model_module_version": "1.5.0",
            "_model_name": "DescriptionStyleModel",
            "_view_count": null,
            "_view_module": "@jupyter-widgets/base",
            "_view_module_version": "1.2.0",
            "_view_name": "StyleView",
            "description_width": ""
          }
        },
        "65b7be81d4f94e5da1aa8b8c297671c1": {
          "model_module": "@jupyter-widgets/base",
          "model_name": "LayoutModel",
          "model_module_version": "1.2.0",
          "state": {
            "_model_module": "@jupyter-widgets/base",
            "_model_module_version": "1.2.0",
            "_model_name": "LayoutModel",
            "_view_count": null,
            "_view_module": "@jupyter-widgets/base",
            "_view_module_version": "1.2.0",
            "_view_name": "LayoutView",
            "align_content": null,
            "align_items": null,
            "align_self": null,
            "border": null,
            "bottom": null,
            "display": null,
            "flex": null,
            "flex_flow": null,
            "grid_area": null,
            "grid_auto_columns": null,
            "grid_auto_flow": null,
            "grid_auto_rows": null,
            "grid_column": null,
            "grid_gap": null,
            "grid_row": null,
            "grid_template_areas": null,
            "grid_template_columns": null,
            "grid_template_rows": null,
            "height": null,
            "justify_content": null,
            "justify_items": null,
            "left": null,
            "margin": null,
            "max_height": null,
            "max_width": null,
            "min_height": null,
            "min_width": null,
            "object_fit": null,
            "object_position": null,
            "order": null,
            "overflow": null,
            "overflow_x": null,
            "overflow_y": null,
            "padding": null,
            "right": null,
            "top": null,
            "visibility": null,
            "width": null
          }
        },
        "8d791e74723b4041b89a6dd016f77641": {
          "model_module": "@jupyter-widgets/controls",
          "model_name": "ProgressStyleModel",
          "model_module_version": "1.5.0",
          "state": {
            "_model_module": "@jupyter-widgets/controls",
            "_model_module_version": "1.5.0",
            "_model_name": "ProgressStyleModel",
            "_view_count": null,
            "_view_module": "@jupyter-widgets/base",
            "_view_module_version": "1.2.0",
            "_view_name": "StyleView",
            "bar_color": null,
            "description_width": ""
          }
        },
        "9ca58e5d951b4144b29a0ce366f118dd": {
          "model_module": "@jupyter-widgets/base",
          "model_name": "LayoutModel",
          "model_module_version": "1.2.0",
          "state": {
            "_model_module": "@jupyter-widgets/base",
            "_model_module_version": "1.2.0",
            "_model_name": "LayoutModel",
            "_view_count": null,
            "_view_module": "@jupyter-widgets/base",
            "_view_module_version": "1.2.0",
            "_view_name": "LayoutView",
            "align_content": null,
            "align_items": null,
            "align_self": null,
            "border": null,
            "bottom": null,
            "display": null,
            "flex": null,
            "flex_flow": null,
            "grid_area": null,
            "grid_auto_columns": null,
            "grid_auto_flow": null,
            "grid_auto_rows": null,
            "grid_column": null,
            "grid_gap": null,
            "grid_row": null,
            "grid_template_areas": null,
            "grid_template_columns": null,
            "grid_template_rows": null,
            "height": null,
            "justify_content": null,
            "justify_items": null,
            "left": null,
            "margin": null,
            "max_height": null,
            "max_width": null,
            "min_height": null,
            "min_width": null,
            "object_fit": null,
            "object_position": null,
            "order": null,
            "overflow": null,
            "overflow_x": null,
            "overflow_y": null,
            "padding": null,
            "right": null,
            "top": null,
            "visibility": null,
            "width": null
          }
        },
        "f12ae5bdaa524dfab3cf4a3b95cca927": {
          "model_module": "@jupyter-widgets/controls",
          "model_name": "DescriptionStyleModel",
          "model_module_version": "1.5.0",
          "state": {
            "_model_module": "@jupyter-widgets/controls",
            "_model_module_version": "1.5.0",
            "_model_name": "DescriptionStyleModel",
            "_view_count": null,
            "_view_module": "@jupyter-widgets/base",
            "_view_module_version": "1.2.0",
            "_view_name": "StyleView",
            "description_width": ""
          }
        },
        "f9a90be345dd4556b1c8dcbd81d8a459": {
          "model_module": "@jupyter-widgets/controls",
          "model_name": "HBoxModel",
          "model_module_version": "1.5.0",
          "state": {
            "_dom_classes": [],
            "_model_module": "@jupyter-widgets/controls",
            "_model_module_version": "1.5.0",
            "_model_name": "HBoxModel",
            "_view_count": null,
            "_view_module": "@jupyter-widgets/controls",
            "_view_module_version": "1.5.0",
            "_view_name": "HBoxView",
            "box_style": "",
            "children": [
              "IPY_MODEL_6f38cd908465432e844b3c5a07cace66",
              "IPY_MODEL_4dbbb93aa766442aa7845bec6b6c1fa4",
              "IPY_MODEL_a7c2f04822b044fcb764b6a41ba149f2"
            ],
            "layout": "IPY_MODEL_26569e8b7f8a4e4491a4cdb89a0472bc"
          }
        },
        "6f38cd908465432e844b3c5a07cace66": {
          "model_module": "@jupyter-widgets/controls",
          "model_name": "HTMLModel",
          "model_module_version": "1.5.0",
          "state": {
            "_dom_classes": [],
            "_model_module": "@jupyter-widgets/controls",
            "_model_module_version": "1.5.0",
            "_model_name": "HTMLModel",
            "_view_count": null,
            "_view_module": "@jupyter-widgets/controls",
            "_view_module_version": "1.5.0",
            "_view_name": "HTMLView",
            "description": "",
            "description_tooltip": null,
            "layout": "IPY_MODEL_4345e29c8a544ce0ae1997cb7ca7f453",
            "placeholder": "​",
            "style": "IPY_MODEL_19cedd47d30e4c148786e8b2b50f27ec",
            "value": "Map: 100%"
          }
        },
        "4dbbb93aa766442aa7845bec6b6c1fa4": {
          "model_module": "@jupyter-widgets/controls",
          "model_name": "FloatProgressModel",
          "model_module_version": "1.5.0",
          "state": {
            "_dom_classes": [],
            "_model_module": "@jupyter-widgets/controls",
            "_model_module_version": "1.5.0",
            "_model_name": "FloatProgressModel",
            "_view_count": null,
            "_view_module": "@jupyter-widgets/controls",
            "_view_module_version": "1.5.0",
            "_view_name": "ProgressView",
            "bar_style": "success",
            "description": "",
            "description_tooltip": null,
            "layout": "IPY_MODEL_d9897d4968e747498b56dcbaa848f1be",
            "max": 799,
            "min": 0,
            "orientation": "horizontal",
            "style": "IPY_MODEL_d49500f9b2a04757bd56beee328ecba8",
            "value": 799
          }
        },
        "a7c2f04822b044fcb764b6a41ba149f2": {
          "model_module": "@jupyter-widgets/controls",
          "model_name": "HTMLModel",
          "model_module_version": "1.5.0",
          "state": {
            "_dom_classes": [],
            "_model_module": "@jupyter-widgets/controls",
            "_model_module_version": "1.5.0",
            "_model_name": "HTMLModel",
            "_view_count": null,
            "_view_module": "@jupyter-widgets/controls",
            "_view_module_version": "1.5.0",
            "_view_name": "HTMLView",
            "description": "",
            "description_tooltip": null,
            "layout": "IPY_MODEL_1e4aa27ffbf64331914ec26a0f71fcc9",
            "placeholder": "​",
            "style": "IPY_MODEL_e450027cff714403a39f0d5bfb6992d6",
            "value": " 799/799 [00:38&lt;00:00, 20.50 examples/s]"
          }
        },
        "26569e8b7f8a4e4491a4cdb89a0472bc": {
          "model_module": "@jupyter-widgets/base",
          "model_name": "LayoutModel",
          "model_module_version": "1.2.0",
          "state": {
            "_model_module": "@jupyter-widgets/base",
            "_model_module_version": "1.2.0",
            "_model_name": "LayoutModel",
            "_view_count": null,
            "_view_module": "@jupyter-widgets/base",
            "_view_module_version": "1.2.0",
            "_view_name": "LayoutView",
            "align_content": null,
            "align_items": null,
            "align_self": null,
            "border": null,
            "bottom": null,
            "display": null,
            "flex": null,
            "flex_flow": null,
            "grid_area": null,
            "grid_auto_columns": null,
            "grid_auto_flow": null,
            "grid_auto_rows": null,
            "grid_column": null,
            "grid_gap": null,
            "grid_row": null,
            "grid_template_areas": null,
            "grid_template_columns": null,
            "grid_template_rows": null,
            "height": null,
            "justify_content": null,
            "justify_items": null,
            "left": null,
            "margin": null,
            "max_height": null,
            "max_width": null,
            "min_height": null,
            "min_width": null,
            "object_fit": null,
            "object_position": null,
            "order": null,
            "overflow": null,
            "overflow_x": null,
            "overflow_y": null,
            "padding": null,
            "right": null,
            "top": null,
            "visibility": null,
            "width": null
          }
        },
        "4345e29c8a544ce0ae1997cb7ca7f453": {
          "model_module": "@jupyter-widgets/base",
          "model_name": "LayoutModel",
          "model_module_version": "1.2.0",
          "state": {
            "_model_module": "@jupyter-widgets/base",
            "_model_module_version": "1.2.0",
            "_model_name": "LayoutModel",
            "_view_count": null,
            "_view_module": "@jupyter-widgets/base",
            "_view_module_version": "1.2.0",
            "_view_name": "LayoutView",
            "align_content": null,
            "align_items": null,
            "align_self": null,
            "border": null,
            "bottom": null,
            "display": null,
            "flex": null,
            "flex_flow": null,
            "grid_area": null,
            "grid_auto_columns": null,
            "grid_auto_flow": null,
            "grid_auto_rows": null,
            "grid_column": null,
            "grid_gap": null,
            "grid_row": null,
            "grid_template_areas": null,
            "grid_template_columns": null,
            "grid_template_rows": null,
            "height": null,
            "justify_content": null,
            "justify_items": null,
            "left": null,
            "margin": null,
            "max_height": null,
            "max_width": null,
            "min_height": null,
            "min_width": null,
            "object_fit": null,
            "object_position": null,
            "order": null,
            "overflow": null,
            "overflow_x": null,
            "overflow_y": null,
            "padding": null,
            "right": null,
            "top": null,
            "visibility": null,
            "width": null
          }
        },
        "19cedd47d30e4c148786e8b2b50f27ec": {
          "model_module": "@jupyter-widgets/controls",
          "model_name": "DescriptionStyleModel",
          "model_module_version": "1.5.0",
          "state": {
            "_model_module": "@jupyter-widgets/controls",
            "_model_module_version": "1.5.0",
            "_model_name": "DescriptionStyleModel",
            "_view_count": null,
            "_view_module": "@jupyter-widgets/base",
            "_view_module_version": "1.2.0",
            "_view_name": "StyleView",
            "description_width": ""
          }
        },
        "d9897d4968e747498b56dcbaa848f1be": {
          "model_module": "@jupyter-widgets/base",
          "model_name": "LayoutModel",
          "model_module_version": "1.2.0",
          "state": {
            "_model_module": "@jupyter-widgets/base",
            "_model_module_version": "1.2.0",
            "_model_name": "LayoutModel",
            "_view_count": null,
            "_view_module": "@jupyter-widgets/base",
            "_view_module_version": "1.2.0",
            "_view_name": "LayoutView",
            "align_content": null,
            "align_items": null,
            "align_self": null,
            "border": null,
            "bottom": null,
            "display": null,
            "flex": null,
            "flex_flow": null,
            "grid_area": null,
            "grid_auto_columns": null,
            "grid_auto_flow": null,
            "grid_auto_rows": null,
            "grid_column": null,
            "grid_gap": null,
            "grid_row": null,
            "grid_template_areas": null,
            "grid_template_columns": null,
            "grid_template_rows": null,
            "height": null,
            "justify_content": null,
            "justify_items": null,
            "left": null,
            "margin": null,
            "max_height": null,
            "max_width": null,
            "min_height": null,
            "min_width": null,
            "object_fit": null,
            "object_position": null,
            "order": null,
            "overflow": null,
            "overflow_x": null,
            "overflow_y": null,
            "padding": null,
            "right": null,
            "top": null,
            "visibility": null,
            "width": null
          }
        },
        "d49500f9b2a04757bd56beee328ecba8": {
          "model_module": "@jupyter-widgets/controls",
          "model_name": "ProgressStyleModel",
          "model_module_version": "1.5.0",
          "state": {
            "_model_module": "@jupyter-widgets/controls",
            "_model_module_version": "1.5.0",
            "_model_name": "ProgressStyleModel",
            "_view_count": null,
            "_view_module": "@jupyter-widgets/base",
            "_view_module_version": "1.2.0",
            "_view_name": "StyleView",
            "bar_color": null,
            "description_width": ""
          }
        },
        "1e4aa27ffbf64331914ec26a0f71fcc9": {
          "model_module": "@jupyter-widgets/base",
          "model_name": "LayoutModel",
          "model_module_version": "1.2.0",
          "state": {
            "_model_module": "@jupyter-widgets/base",
            "_model_module_version": "1.2.0",
            "_model_name": "LayoutModel",
            "_view_count": null,
            "_view_module": "@jupyter-widgets/base",
            "_view_module_version": "1.2.0",
            "_view_name": "LayoutView",
            "align_content": null,
            "align_items": null,
            "align_self": null,
            "border": null,
            "bottom": null,
            "display": null,
            "flex": null,
            "flex_flow": null,
            "grid_area": null,
            "grid_auto_columns": null,
            "grid_auto_flow": null,
            "grid_auto_rows": null,
            "grid_column": null,
            "grid_gap": null,
            "grid_row": null,
            "grid_template_areas": null,
            "grid_template_columns": null,
            "grid_template_rows": null,
            "height": null,
            "justify_content": null,
            "justify_items": null,
            "left": null,
            "margin": null,
            "max_height": null,
            "max_width": null,
            "min_height": null,
            "min_width": null,
            "object_fit": null,
            "object_position": null,
            "order": null,
            "overflow": null,
            "overflow_x": null,
            "overflow_y": null,
            "padding": null,
            "right": null,
            "top": null,
            "visibility": null,
            "width": null
          }
        },
        "e450027cff714403a39f0d5bfb6992d6": {
          "model_module": "@jupyter-widgets/controls",
          "model_name": "DescriptionStyleModel",
          "model_module_version": "1.5.0",
          "state": {
            "_model_module": "@jupyter-widgets/controls",
            "_model_module_version": "1.5.0",
            "_model_name": "DescriptionStyleModel",
            "_view_count": null,
            "_view_module": "@jupyter-widgets/base",
            "_view_module_version": "1.2.0",
            "_view_name": "StyleView",
            "description_width": ""
          }
        },
        "3b125dfd015b4062bae8902082bebd00": {
          "model_module": "@jupyter-widgets/controls",
          "model_name": "HBoxModel",
          "model_module_version": "1.5.0",
          "state": {
            "_dom_classes": [],
            "_model_module": "@jupyter-widgets/controls",
            "_model_module_version": "1.5.0",
            "_model_name": "HBoxModel",
            "_view_count": null,
            "_view_module": "@jupyter-widgets/controls",
            "_view_module_version": "1.5.0",
            "_view_name": "HBoxView",
            "box_style": "",
            "children": [
              "IPY_MODEL_c6378bd78b09435697d22f4974b34542",
              "IPY_MODEL_9e8ac20f283640c6ac8e4b6d57ee12b8",
              "IPY_MODEL_266ca61ecb764cd3a39d12b5dc3d8d61"
            ],
            "layout": "IPY_MODEL_392fee3e819e42f69c41e9e73d048279"
          }
        },
        "c6378bd78b09435697d22f4974b34542": {
          "model_module": "@jupyter-widgets/controls",
          "model_name": "HTMLModel",
          "model_module_version": "1.5.0",
          "state": {
            "_dom_classes": [],
            "_model_module": "@jupyter-widgets/controls",
            "_model_module_version": "1.5.0",
            "_model_name": "HTMLModel",
            "_view_count": null,
            "_view_module": "@jupyter-widgets/controls",
            "_view_module_version": "1.5.0",
            "_view_name": "HTMLView",
            "description": "",
            "description_tooltip": null,
            "layout": "IPY_MODEL_f12652d6359343aa9339560d5a50e19e",
            "placeholder": "​",
            "style": "IPY_MODEL_81f6c888465e4b839be177dfba4ffa1a",
            "value": "Map: 100%"
          }
        },
        "9e8ac20f283640c6ac8e4b6d57ee12b8": {
          "model_module": "@jupyter-widgets/controls",
          "model_name": "FloatProgressModel",
          "model_module_version": "1.5.0",
          "state": {
            "_dom_classes": [],
            "_model_module": "@jupyter-widgets/controls",
            "_model_module_version": "1.5.0",
            "_model_name": "FloatProgressModel",
            "_view_count": null,
            "_view_module": "@jupyter-widgets/controls",
            "_view_module_version": "1.5.0",
            "_view_name": "ProgressView",
            "bar_style": "success",
            "description": "",
            "description_tooltip": null,
            "layout": "IPY_MODEL_018127da56d448c887d091d3b2fdd9cb",
            "max": 100,
            "min": 0,
            "orientation": "horizontal",
            "style": "IPY_MODEL_29ca20dfc33b471aa29ff3acbdf2d55e",
            "value": 100
          }
        },
        "266ca61ecb764cd3a39d12b5dc3d8d61": {
          "model_module": "@jupyter-widgets/controls",
          "model_name": "HTMLModel",
          "model_module_version": "1.5.0",
          "state": {
            "_dom_classes": [],
            "_model_module": "@jupyter-widgets/controls",
            "_model_module_version": "1.5.0",
            "_model_name": "HTMLModel",
            "_view_count": null,
            "_view_module": "@jupyter-widgets/controls",
            "_view_module_version": "1.5.0",
            "_view_name": "HTMLView",
            "description": "",
            "description_tooltip": null,
            "layout": "IPY_MODEL_e8d5f2c6a9094c8182f29c56fb419bbb",
            "placeholder": "​",
            "style": "IPY_MODEL_c59f7aa8502d44c68189c3e276032fd7",
            "value": " 100/100 [00:05&lt;00:00, 19.89 examples/s]"
          }
        },
        "392fee3e819e42f69c41e9e73d048279": {
          "model_module": "@jupyter-widgets/base",
          "model_name": "LayoutModel",
          "model_module_version": "1.2.0",
          "state": {
            "_model_module": "@jupyter-widgets/base",
            "_model_module_version": "1.2.0",
            "_model_name": "LayoutModel",
            "_view_count": null,
            "_view_module": "@jupyter-widgets/base",
            "_view_module_version": "1.2.0",
            "_view_name": "LayoutView",
            "align_content": null,
            "align_items": null,
            "align_self": null,
            "border": null,
            "bottom": null,
            "display": null,
            "flex": null,
            "flex_flow": null,
            "grid_area": null,
            "grid_auto_columns": null,
            "grid_auto_flow": null,
            "grid_auto_rows": null,
            "grid_column": null,
            "grid_gap": null,
            "grid_row": null,
            "grid_template_areas": null,
            "grid_template_columns": null,
            "grid_template_rows": null,
            "height": null,
            "justify_content": null,
            "justify_items": null,
            "left": null,
            "margin": null,
            "max_height": null,
            "max_width": null,
            "min_height": null,
            "min_width": null,
            "object_fit": null,
            "object_position": null,
            "order": null,
            "overflow": null,
            "overflow_x": null,
            "overflow_y": null,
            "padding": null,
            "right": null,
            "top": null,
            "visibility": null,
            "width": null
          }
        },
        "f12652d6359343aa9339560d5a50e19e": {
          "model_module": "@jupyter-widgets/base",
          "model_name": "LayoutModel",
          "model_module_version": "1.2.0",
          "state": {
            "_model_module": "@jupyter-widgets/base",
            "_model_module_version": "1.2.0",
            "_model_name": "LayoutModel",
            "_view_count": null,
            "_view_module": "@jupyter-widgets/base",
            "_view_module_version": "1.2.0",
            "_view_name": "LayoutView",
            "align_content": null,
            "align_items": null,
            "align_self": null,
            "border": null,
            "bottom": null,
            "display": null,
            "flex": null,
            "flex_flow": null,
            "grid_area": null,
            "grid_auto_columns": null,
            "grid_auto_flow": null,
            "grid_auto_rows": null,
            "grid_column": null,
            "grid_gap": null,
            "grid_row": null,
            "grid_template_areas": null,
            "grid_template_columns": null,
            "grid_template_rows": null,
            "height": null,
            "justify_content": null,
            "justify_items": null,
            "left": null,
            "margin": null,
            "max_height": null,
            "max_width": null,
            "min_height": null,
            "min_width": null,
            "object_fit": null,
            "object_position": null,
            "order": null,
            "overflow": null,
            "overflow_x": null,
            "overflow_y": null,
            "padding": null,
            "right": null,
            "top": null,
            "visibility": null,
            "width": null
          }
        },
        "81f6c888465e4b839be177dfba4ffa1a": {
          "model_module": "@jupyter-widgets/controls",
          "model_name": "DescriptionStyleModel",
          "model_module_version": "1.5.0",
          "state": {
            "_model_module": "@jupyter-widgets/controls",
            "_model_module_version": "1.5.0",
            "_model_name": "DescriptionStyleModel",
            "_view_count": null,
            "_view_module": "@jupyter-widgets/base",
            "_view_module_version": "1.2.0",
            "_view_name": "StyleView",
            "description_width": ""
          }
        },
        "018127da56d448c887d091d3b2fdd9cb": {
          "model_module": "@jupyter-widgets/base",
          "model_name": "LayoutModel",
          "model_module_version": "1.2.0",
          "state": {
            "_model_module": "@jupyter-widgets/base",
            "_model_module_version": "1.2.0",
            "_model_name": "LayoutModel",
            "_view_count": null,
            "_view_module": "@jupyter-widgets/base",
            "_view_module_version": "1.2.0",
            "_view_name": "LayoutView",
            "align_content": null,
            "align_items": null,
            "align_self": null,
            "border": null,
            "bottom": null,
            "display": null,
            "flex": null,
            "flex_flow": null,
            "grid_area": null,
            "grid_auto_columns": null,
            "grid_auto_flow": null,
            "grid_auto_rows": null,
            "grid_column": null,
            "grid_gap": null,
            "grid_row": null,
            "grid_template_areas": null,
            "grid_template_columns": null,
            "grid_template_rows": null,
            "height": null,
            "justify_content": null,
            "justify_items": null,
            "left": null,
            "margin": null,
            "max_height": null,
            "max_width": null,
            "min_height": null,
            "min_width": null,
            "object_fit": null,
            "object_position": null,
            "order": null,
            "overflow": null,
            "overflow_x": null,
            "overflow_y": null,
            "padding": null,
            "right": null,
            "top": null,
            "visibility": null,
            "width": null
          }
        },
        "29ca20dfc33b471aa29ff3acbdf2d55e": {
          "model_module": "@jupyter-widgets/controls",
          "model_name": "ProgressStyleModel",
          "model_module_version": "1.5.0",
          "state": {
            "_model_module": "@jupyter-widgets/controls",
            "_model_module_version": "1.5.0",
            "_model_name": "ProgressStyleModel",
            "_view_count": null,
            "_view_module": "@jupyter-widgets/base",
            "_view_module_version": "1.2.0",
            "_view_name": "StyleView",
            "bar_color": null,
            "description_width": ""
          }
        },
        "e8d5f2c6a9094c8182f29c56fb419bbb": {
          "model_module": "@jupyter-widgets/base",
          "model_name": "LayoutModel",
          "model_module_version": "1.2.0",
          "state": {
            "_model_module": "@jupyter-widgets/base",
            "_model_module_version": "1.2.0",
            "_model_name": "LayoutModel",
            "_view_count": null,
            "_view_module": "@jupyter-widgets/base",
            "_view_module_version": "1.2.0",
            "_view_name": "LayoutView",
            "align_content": null,
            "align_items": null,
            "align_self": null,
            "border": null,
            "bottom": null,
            "display": null,
            "flex": null,
            "flex_flow": null,
            "grid_area": null,
            "grid_auto_columns": null,
            "grid_auto_flow": null,
            "grid_auto_rows": null,
            "grid_column": null,
            "grid_gap": null,
            "grid_row": null,
            "grid_template_areas": null,
            "grid_template_columns": null,
            "grid_template_rows": null,
            "height": null,
            "justify_content": null,
            "justify_items": null,
            "left": null,
            "margin": null,
            "max_height": null,
            "max_width": null,
            "min_height": null,
            "min_width": null,
            "object_fit": null,
            "object_position": null,
            "order": null,
            "overflow": null,
            "overflow_x": null,
            "overflow_y": null,
            "padding": null,
            "right": null,
            "top": null,
            "visibility": null,
            "width": null
          }
        },
        "c59f7aa8502d44c68189c3e276032fd7": {
          "model_module": "@jupyter-widgets/controls",
          "model_name": "DescriptionStyleModel",
          "model_module_version": "1.5.0",
          "state": {
            "_model_module": "@jupyter-widgets/controls",
            "_model_module_version": "1.5.0",
            "_model_name": "DescriptionStyleModel",
            "_view_count": null,
            "_view_module": "@jupyter-widgets/base",
            "_view_module_version": "1.2.0",
            "_view_name": "StyleView",
            "description_width": ""
          }
        },
        "f5942b18d2174444add42372495486c9": {
          "model_module": "@jupyter-widgets/controls",
          "model_name": "HBoxModel",
          "model_module_version": "1.5.0",
          "state": {
            "_dom_classes": [],
            "_model_module": "@jupyter-widgets/controls",
            "_model_module_version": "1.5.0",
            "_model_name": "HBoxModel",
            "_view_count": null,
            "_view_module": "@jupyter-widgets/controls",
            "_view_module_version": "1.5.0",
            "_view_name": "HBoxView",
            "box_style": "",
            "children": [
              "IPY_MODEL_8d1cb3a3cba74d72922cc77b4062fa68",
              "IPY_MODEL_5906f5d5a1dd4fbdaf7a22e5dd22f502",
              "IPY_MODEL_190d00643eef4157835eedc6eeda8512"
            ],
            "layout": "IPY_MODEL_4b2699e09dd84637ab74bff5ab43fc9b"
          }
        },
        "8d1cb3a3cba74d72922cc77b4062fa68": {
          "model_module": "@jupyter-widgets/controls",
          "model_name": "HTMLModel",
          "model_module_version": "1.5.0",
          "state": {
            "_dom_classes": [],
            "_model_module": "@jupyter-widgets/controls",
            "_model_module_version": "1.5.0",
            "_model_name": "HTMLModel",
            "_view_count": null,
            "_view_module": "@jupyter-widgets/controls",
            "_view_module_version": "1.5.0",
            "_view_name": "HTMLView",
            "description": "",
            "description_tooltip": null,
            "layout": "IPY_MODEL_8c1b443bc690489b880e5df31304e8f0",
            "placeholder": "​",
            "style": "IPY_MODEL_d70b8387fbdb416aa21d36b1c32d3aa2",
            "value": "Map: 100%"
          }
        },
        "5906f5d5a1dd4fbdaf7a22e5dd22f502": {
          "model_module": "@jupyter-widgets/controls",
          "model_name": "FloatProgressModel",
          "model_module_version": "1.5.0",
          "state": {
            "_dom_classes": [],
            "_model_module": "@jupyter-widgets/controls",
            "_model_module_version": "1.5.0",
            "_model_name": "FloatProgressModel",
            "_view_count": null,
            "_view_module": "@jupyter-widgets/controls",
            "_view_module_version": "1.5.0",
            "_view_name": "ProgressView",
            "bar_style": "success",
            "description": "",
            "description_tooltip": null,
            "layout": "IPY_MODEL_77bed3c5cd8d4bf4a9775f6c2709a63a",
            "max": 100,
            "min": 0,
            "orientation": "horizontal",
            "style": "IPY_MODEL_5d99c5dfcfe24d13ad420b077aee6a81",
            "value": 100
          }
        },
        "190d00643eef4157835eedc6eeda8512": {
          "model_module": "@jupyter-widgets/controls",
          "model_name": "HTMLModel",
          "model_module_version": "1.5.0",
          "state": {
            "_dom_classes": [],
            "_model_module": "@jupyter-widgets/controls",
            "_model_module_version": "1.5.0",
            "_model_name": "HTMLModel",
            "_view_count": null,
            "_view_module": "@jupyter-widgets/controls",
            "_view_module_version": "1.5.0",
            "_view_name": "HTMLView",
            "description": "",
            "description_tooltip": null,
            "layout": "IPY_MODEL_b21a2726433043c493aa2afd7b792321",
            "placeholder": "​",
            "style": "IPY_MODEL_13b5b62886b541769828bbb7a74ecf2f",
            "value": " 100/100 [00:04&lt;00:00, 24.14 examples/s]"
          }
        },
        "4b2699e09dd84637ab74bff5ab43fc9b": {
          "model_module": "@jupyter-widgets/base",
          "model_name": "LayoutModel",
          "model_module_version": "1.2.0",
          "state": {
            "_model_module": "@jupyter-widgets/base",
            "_model_module_version": "1.2.0",
            "_model_name": "LayoutModel",
            "_view_count": null,
            "_view_module": "@jupyter-widgets/base",
            "_view_module_version": "1.2.0",
            "_view_name": "LayoutView",
            "align_content": null,
            "align_items": null,
            "align_self": null,
            "border": null,
            "bottom": null,
            "display": null,
            "flex": null,
            "flex_flow": null,
            "grid_area": null,
            "grid_auto_columns": null,
            "grid_auto_flow": null,
            "grid_auto_rows": null,
            "grid_column": null,
            "grid_gap": null,
            "grid_row": null,
            "grid_template_areas": null,
            "grid_template_columns": null,
            "grid_template_rows": null,
            "height": null,
            "justify_content": null,
            "justify_items": null,
            "left": null,
            "margin": null,
            "max_height": null,
            "max_width": null,
            "min_height": null,
            "min_width": null,
            "object_fit": null,
            "object_position": null,
            "order": null,
            "overflow": null,
            "overflow_x": null,
            "overflow_y": null,
            "padding": null,
            "right": null,
            "top": null,
            "visibility": null,
            "width": null
          }
        },
        "8c1b443bc690489b880e5df31304e8f0": {
          "model_module": "@jupyter-widgets/base",
          "model_name": "LayoutModel",
          "model_module_version": "1.2.0",
          "state": {
            "_model_module": "@jupyter-widgets/base",
            "_model_module_version": "1.2.0",
            "_model_name": "LayoutModel",
            "_view_count": null,
            "_view_module": "@jupyter-widgets/base",
            "_view_module_version": "1.2.0",
            "_view_name": "LayoutView",
            "align_content": null,
            "align_items": null,
            "align_self": null,
            "border": null,
            "bottom": null,
            "display": null,
            "flex": null,
            "flex_flow": null,
            "grid_area": null,
            "grid_auto_columns": null,
            "grid_auto_flow": null,
            "grid_auto_rows": null,
            "grid_column": null,
            "grid_gap": null,
            "grid_row": null,
            "grid_template_areas": null,
            "grid_template_columns": null,
            "grid_template_rows": null,
            "height": null,
            "justify_content": null,
            "justify_items": null,
            "left": null,
            "margin": null,
            "max_height": null,
            "max_width": null,
            "min_height": null,
            "min_width": null,
            "object_fit": null,
            "object_position": null,
            "order": null,
            "overflow": null,
            "overflow_x": null,
            "overflow_y": null,
            "padding": null,
            "right": null,
            "top": null,
            "visibility": null,
            "width": null
          }
        },
        "d70b8387fbdb416aa21d36b1c32d3aa2": {
          "model_module": "@jupyter-widgets/controls",
          "model_name": "DescriptionStyleModel",
          "model_module_version": "1.5.0",
          "state": {
            "_model_module": "@jupyter-widgets/controls",
            "_model_module_version": "1.5.0",
            "_model_name": "DescriptionStyleModel",
            "_view_count": null,
            "_view_module": "@jupyter-widgets/base",
            "_view_module_version": "1.2.0",
            "_view_name": "StyleView",
            "description_width": ""
          }
        },
        "77bed3c5cd8d4bf4a9775f6c2709a63a": {
          "model_module": "@jupyter-widgets/base",
          "model_name": "LayoutModel",
          "model_module_version": "1.2.0",
          "state": {
            "_model_module": "@jupyter-widgets/base",
            "_model_module_version": "1.2.0",
            "_model_name": "LayoutModel",
            "_view_count": null,
            "_view_module": "@jupyter-widgets/base",
            "_view_module_version": "1.2.0",
            "_view_name": "LayoutView",
            "align_content": null,
            "align_items": null,
            "align_self": null,
            "border": null,
            "bottom": null,
            "display": null,
            "flex": null,
            "flex_flow": null,
            "grid_area": null,
            "grid_auto_columns": null,
            "grid_auto_flow": null,
            "grid_auto_rows": null,
            "grid_column": null,
            "grid_gap": null,
            "grid_row": null,
            "grid_template_areas": null,
            "grid_template_columns": null,
            "grid_template_rows": null,
            "height": null,
            "justify_content": null,
            "justify_items": null,
            "left": null,
            "margin": null,
            "max_height": null,
            "max_width": null,
            "min_height": null,
            "min_width": null,
            "object_fit": null,
            "object_position": null,
            "order": null,
            "overflow": null,
            "overflow_x": null,
            "overflow_y": null,
            "padding": null,
            "right": null,
            "top": null,
            "visibility": null,
            "width": null
          }
        },
        "5d99c5dfcfe24d13ad420b077aee6a81": {
          "model_module": "@jupyter-widgets/controls",
          "model_name": "ProgressStyleModel",
          "model_module_version": "1.5.0",
          "state": {
            "_model_module": "@jupyter-widgets/controls",
            "_model_module_version": "1.5.0",
            "_model_name": "ProgressStyleModel",
            "_view_count": null,
            "_view_module": "@jupyter-widgets/base",
            "_view_module_version": "1.2.0",
            "_view_name": "StyleView",
            "bar_color": null,
            "description_width": ""
          }
        },
        "b21a2726433043c493aa2afd7b792321": {
          "model_module": "@jupyter-widgets/base",
          "model_name": "LayoutModel",
          "model_module_version": "1.2.0",
          "state": {
            "_model_module": "@jupyter-widgets/base",
            "_model_module_version": "1.2.0",
            "_model_name": "LayoutModel",
            "_view_count": null,
            "_view_module": "@jupyter-widgets/base",
            "_view_module_version": "1.2.0",
            "_view_name": "LayoutView",
            "align_content": null,
            "align_items": null,
            "align_self": null,
            "border": null,
            "bottom": null,
            "display": null,
            "flex": null,
            "flex_flow": null,
            "grid_area": null,
            "grid_auto_columns": null,
            "grid_auto_flow": null,
            "grid_auto_rows": null,
            "grid_column": null,
            "grid_gap": null,
            "grid_row": null,
            "grid_template_areas": null,
            "grid_template_columns": null,
            "grid_template_rows": null,
            "height": null,
            "justify_content": null,
            "justify_items": null,
            "left": null,
            "margin": null,
            "max_height": null,
            "max_width": null,
            "min_height": null,
            "min_width": null,
            "object_fit": null,
            "object_position": null,
            "order": null,
            "overflow": null,
            "overflow_x": null,
            "overflow_y": null,
            "padding": null,
            "right": null,
            "top": null,
            "visibility": null,
            "width": null
          }
        },
        "13b5b62886b541769828bbb7a74ecf2f": {
          "model_module": "@jupyter-widgets/controls",
          "model_name": "DescriptionStyleModel",
          "model_module_version": "1.5.0",
          "state": {
            "_model_module": "@jupyter-widgets/controls",
            "_model_module_version": "1.5.0",
            "_model_name": "DescriptionStyleModel",
            "_view_count": null,
            "_view_module": "@jupyter-widgets/base",
            "_view_module_version": "1.2.0",
            "_view_name": "StyleView",
            "description_width": ""
          }
        }
      }
    }
  },
  "nbformat": 4,
  "nbformat_minor": 5
}